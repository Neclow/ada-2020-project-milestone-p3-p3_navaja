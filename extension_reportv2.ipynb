{
 "cells": [
  {
   "cell_type": "markdown",
   "metadata": {},
   "source": [
    "# Benchmarking predictive frameworks of civil war onset\n",
    "\n",
    "In the wake of the Second World War, the world has seen a steady increase in intrastate conflicts [1], often with dire consequences for the affected countries. Recent advancements in data science have catalyzed the development of predictive models for various problems, including political conflicts such as civil wars [2] [3] [4]. In 2016, Muchlinski et al. [5] significantly improved previous models of civil war onset. In this project, we first aim at benchmarking these results against other common machine learning algorithms, namely neural networks and gradient boosted trees. As the geographical area was an important feature in the abovementioned study (\"Western Europe and US Dummy\" in Fig. 4 [5]), we will examine whether predictions differ when training separate models for each continent or subregion. Finally, we will explore whether civil war events can be forecast as time series instead of simple regression points, e.g., using autoregressive models."
   ]
  },
  {
   "cell_type": "code",
   "execution_count": 1,
   "metadata": {},
   "outputs": [],
   "source": [
    "# Libraries for data wrangling\n",
    "import pandas as pd\n",
    "import numpy as np\n",
    "\n",
    "# Machine learning functions\n",
    "from sklearn.ensemble import RandomForestClassifier\n",
    "from sklearn.neural_network import MLPClassifier\n",
    "from sklearn.model_selection import train_test_split, GridSearchCV\n",
    "from sklearn.preprocessing import StandardScaler\n",
    "from sklearn.metrics import f1_score, roc_auc_score, average_precision_score, precision_recall_curve, confusion_matrix\n",
    "from sklearn.inspection import permutation_importance\n",
    "from sklearn.feature_selection import mutual_info_classif\n",
    "\n",
    "from xgboost import XGBClassifier\n",
    "\n",
    "# Downsampling function from imblearn, a library to manipulate imbalanced datasets\n",
    "from imblearn.over_sampling import SMOTE\n",
    "from imblearn.under_sampling import RandomUnderSampler\n",
    "from imblearn.pipeline import Pipeline\n",
    "\n",
    "# Data visualization functions\n",
    "import matplotlib\n",
    "import matplotlib.pyplot as plt\n",
    "from matplotlib import colors\n",
    "import seaborn as sns\n",
    "\n",
    "# Read PDFs\n",
    "import camelot"
   ]
  },
  {
   "cell_type": "markdown",
   "metadata": {},
   "source": [
    "### Define the random seed for the rest of the notebook"
   ]
  },
  {
   "cell_type": "code",
   "execution_count": 2,
   "metadata": {},
   "outputs": [],
   "source": [
    "seed = 20201106 # the deadline date for milestone 2\n",
    "palette = sns.color_palette(['#08304a', \"#0d4e78\", '#157abd', \"#1f97e6\", \"#64b6ee\", \"#c0e1f8\"], as_cmap=True) # For plotting"
   ]
  },
  {
   "cell_type": "markdown",
   "metadata": {},
   "source": [
    "## _Step 1:_ Data loading & wrangling\n",
    "---\n",
    "Here, we loaded the 88 variables indicated by Muchlinski et al. [5] together with the response variable (1 if a civil war event occured in a given country-year, 0 otherwise) and columns with country-year information, and cleaned the resulting dataset for the rest of the notebook."
   ]
  },
  {
   "cell_type": "code",
   "execution_count": 3,
   "metadata": {},
   "outputs": [],
   "source": [
    "# Columns used in the Random Forests model from Muchlinski et al. (2016)\n",
    "rf_cols = [\"ager\", \"agexp\", \"anoc\", \"army85\", \n",
    "           \"autch98\", \"auto4\", \"autonomy\", \"avgnabo\",\n",
    "           \"centpol3\", \"coldwar\", \"decade1\", \"decade2\", \n",
    "           \"decade3\", \"decade4\", \"dem\", \"dem4\",\n",
    "           \"demch98\", \"dlang\", \"drace\", \"drel\", \n",
    "           \"durable\", \"ef\", \"ef2\", \"ehet\", \n",
    "           \"elfo\", \"elfo2\", \"etdo4590\", \"expgdp\", \n",
    "           \"exrec\", \"fedpol3\", \"fuelexp\", \"gdpgrowth\", \n",
    "           \"geo1\", \"geo2\", \"geo34\", \"geo57\",\n",
    "           \"geo69\", \"geo8\", \"illiteracy\", \"incumb\", \n",
    "           \"infant\", \"inst\", \"inst3\", \"life\",\n",
    "           \"lmtnest\", \"major\", \"manuexp\", \"milper\",\n",
    "           \"mirps0\", \"mirps1\", \"mirps2\", \"mirps3\", \n",
    "           \"nat_war\", \"ncontig\", \"nmgdp\", \"nmdp4_alt\",\n",
    "           \"numlang\", \"nwstate\", \"oil\", \"p4mchg\", \n",
    "           \"parcomp\", \"parreg\", \"part\", \"partfree\", \n",
    "           \"plural\", \"plurrel\", \"pol4\", \"pol4m\", \n",
    "           \"pol4sq\", \"polch98\", \"polcomp\", \"popdense\", \n",
    "           \"presi\", \"pri\", \"proxregc\", \"reg\", \n",
    "           \"regd4_alt\", \"relfrac\", \"seceduc\", \"second\",\n",
    "           \"semipol3\", \"sip2\", \"sxpnew\", \"sxpsq\",\n",
    "           \"tnatwar\", \"trade\", \"warhist\", \"xconst\"]\n",
    "\n",
    "# Response variable\n",
    "label_col = [\"warstds\"]"
   ]
  },
  {
   "cell_type": "code",
   "execution_count": 4,
   "metadata": {},
   "outputs": [
    {
     "data": {
      "text/plain": [
       "{'ager': 'Age in years of the current regime \\nas classified by REG; ACLP',\n",
       " 'agexp': 'Agricultural raw materials exports \\nas percentage of  merchandise \\nexports; WDI',\n",
       " 'anoc': 'Dummy: Anocracy=1',\n",
       " 'army85': 'Size of government army in 1985',\n",
       " 'autch98': 'Autocracy annual change; Polity 98',\n",
       " 'auto4': 'Autocracy index from Polity IV',\n",
       " 'autonomy': 'Country has de facto autonomous \\nregions',\n",
       " 'avgnabo': 'Average SIP score of neighbors',\n",
       " 'centpol3': 'Centralized state? (Polity III data \\nplus updates for post-1994)',\n",
       " 'coldwar': 'Code 1 for Cold War year - before \\n1990'}"
      ]
     },
     "execution_count": 4,
     "metadata": {},
     "output_type": "execute_result"
    }
   ],
   "source": [
    "file = 'data/Sambanis Codebook.pdf'\n",
    "\n",
    "pages = [1,2,3] # Table pages in the PDF file\n",
    "\n",
    "# Read PDF: first key = 'Variables', second = 'labels'\n",
    "table = camelot.read_pdf(file, pages=','.join(map(str,pages)))\n",
    "\n",
    "# Create the mapping\n",
    "mapping = {}\n",
    "\n",
    "for i in range(len(pages)):\n",
    "    df_i = table[i].df\n",
    "    keys = df_i.iloc[:,0].values\n",
    "    labels = df_i.iloc[:,1].values   \n",
    "    mapping.update(dict(zip(keys, labels)))\n",
    "\n",
    "# Clean table --> remove unncessary rows and columns\n",
    "del mapping['Variable']\n",
    "del mapping['']\n",
    "# Correct nmdgdp to nmgdp\n",
    "mapping['nmgdp'] = mapping['nmdgdp']\n",
    "del mapping['nmdgdp']\n",
    "mapping['geo2'] += ' Asia'\n",
    "\n",
    "# Sanity check: PDF variables match are the same than the features used for RandomForests\n",
    "assert(set(mapping.keys()) == set(rf_cols))\n",
    "\n",
    "# Sanity check: show the first 10 entries as an example and check that it fits the PDF table\n",
    "{key: mapping[key] for key in list(mapping)[:10]}"
   ]
  },
  {
   "cell_type": "code",
   "execution_count": 5,
   "metadata": {},
   "outputs": [
    {
     "name": "stdout",
     "output_type": "stream",
     "text": [
      "Raw data dimensions: (7140, 91)\n"
     ]
    },
    {
     "data": {
      "text/html": [
       "<div>\n",
       "<style scoped>\n",
       "    .dataframe tbody tr th:only-of-type {\n",
       "        vertical-align: middle;\n",
       "    }\n",
       "\n",
       "    .dataframe tbody tr th {\n",
       "        vertical-align: top;\n",
       "    }\n",
       "\n",
       "    .dataframe thead th {\n",
       "        text-align: right;\n",
       "    }\n",
       "</style>\n",
       "<table border=\"1\" class=\"dataframe\">\n",
       "  <thead>\n",
       "    <tr style=\"text-align: right;\">\n",
       "      <th></th>\n",
       "      <th>cowcode</th>\n",
       "      <th>year</th>\n",
       "      <th>warstds</th>\n",
       "      <th>autonomy</th>\n",
       "      <th>popdense</th>\n",
       "      <th>army85</th>\n",
       "      <th>milper</th>\n",
       "      <th>trade</th>\n",
       "      <th>nmgdp</th>\n",
       "      <th>autch98</th>\n",
       "      <th>...</th>\n",
       "      <th>mirps1</th>\n",
       "      <th>mirps2</th>\n",
       "      <th>mirps3</th>\n",
       "      <th>sxpsq</th>\n",
       "      <th>pol4sq</th>\n",
       "      <th>decade1</th>\n",
       "      <th>decade2</th>\n",
       "      <th>decade3</th>\n",
       "      <th>decade4</th>\n",
       "      <th>proxregc</th>\n",
       "    </tr>\n",
       "  </thead>\n",
       "  <tbody>\n",
       "    <tr>\n",
       "      <th>0</th>\n",
       "      <td>700</td>\n",
       "      <td>1945</td>\n",
       "      <td>0</td>\n",
       "      <td>0.005151</td>\n",
       "      <td>118.554791</td>\n",
       "      <td>129472.9042</td>\n",
       "      <td>121.087366</td>\n",
       "      <td>72.881375</td>\n",
       "      <td>4508.131692</td>\n",
       "      <td>0</td>\n",
       "      <td>...</td>\n",
       "      <td>0.16935</td>\n",
       "      <td>0.313143</td>\n",
       "      <td>0.373714</td>\n",
       "      <td>0.052989</td>\n",
       "      <td>61.493014</td>\n",
       "      <td>0</td>\n",
       "      <td>0</td>\n",
       "      <td>0</td>\n",
       "      <td>0</td>\n",
       "      <td>0.143299</td>\n",
       "    </tr>\n",
       "    <tr>\n",
       "      <th>1</th>\n",
       "      <td>700</td>\n",
       "      <td>1946</td>\n",
       "      <td>0</td>\n",
       "      <td>0.000000</td>\n",
       "      <td>117.756342</td>\n",
       "      <td>129413.0225</td>\n",
       "      <td>121.885359</td>\n",
       "      <td>72.900089</td>\n",
       "      <td>4491.340308</td>\n",
       "      <td>0</td>\n",
       "      <td>...</td>\n",
       "      <td>0.00000</td>\n",
       "      <td>1.000000</td>\n",
       "      <td>0.000000</td>\n",
       "      <td>0.052663</td>\n",
       "      <td>100.000000</td>\n",
       "      <td>0</td>\n",
       "      <td>0</td>\n",
       "      <td>0</td>\n",
       "      <td>0</td>\n",
       "      <td>1.000000</td>\n",
       "    </tr>\n",
       "    <tr>\n",
       "      <th>2</th>\n",
       "      <td>700</td>\n",
       "      <td>1947</td>\n",
       "      <td>0</td>\n",
       "      <td>0.000000</td>\n",
       "      <td>118.280656</td>\n",
       "      <td>130431.0145</td>\n",
       "      <td>122.780608</td>\n",
       "      <td>72.962880</td>\n",
       "      <td>4484.267686</td>\n",
       "      <td>0</td>\n",
       "      <td>...</td>\n",
       "      <td>0.00000</td>\n",
       "      <td>1.000000</td>\n",
       "      <td>0.000000</td>\n",
       "      <td>0.052891</td>\n",
       "      <td>100.000000</td>\n",
       "      <td>0</td>\n",
       "      <td>0</td>\n",
       "      <td>0</td>\n",
       "      <td>0</td>\n",
       "      <td>1.000000</td>\n",
       "    </tr>\n",
       "    <tr>\n",
       "      <th>3</th>\n",
       "      <td>700</td>\n",
       "      <td>1948</td>\n",
       "      <td>0</td>\n",
       "      <td>0.000000</td>\n",
       "      <td>118.325869</td>\n",
       "      <td>126781.6866</td>\n",
       "      <td>118.256427</td>\n",
       "      <td>73.102449</td>\n",
       "      <td>4474.082672</td>\n",
       "      <td>0</td>\n",
       "      <td>...</td>\n",
       "      <td>0.00000</td>\n",
       "      <td>1.000000</td>\n",
       "      <td>0.000000</td>\n",
       "      <td>0.052902</td>\n",
       "      <td>100.000000</td>\n",
       "      <td>0</td>\n",
       "      <td>0</td>\n",
       "      <td>0</td>\n",
       "      <td>0</td>\n",
       "      <td>1.000000</td>\n",
       "    </tr>\n",
       "    <tr>\n",
       "      <th>4</th>\n",
       "      <td>700</td>\n",
       "      <td>1949</td>\n",
       "      <td>0</td>\n",
       "      <td>0.000000</td>\n",
       "      <td>118.312296</td>\n",
       "      <td>130979.2470</td>\n",
       "      <td>122.245074</td>\n",
       "      <td>72.850389</td>\n",
       "      <td>4497.299503</td>\n",
       "      <td>0</td>\n",
       "      <td>...</td>\n",
       "      <td>0.00000</td>\n",
       "      <td>1.000000</td>\n",
       "      <td>0.000000</td>\n",
       "      <td>0.052706</td>\n",
       "      <td>100.000000</td>\n",
       "      <td>0</td>\n",
       "      <td>0</td>\n",
       "      <td>0</td>\n",
       "      <td>0</td>\n",
       "      <td>1.000000</td>\n",
       "    </tr>\n",
       "  </tbody>\n",
       "</table>\n",
       "<p>5 rows × 91 columns</p>\n",
       "</div>"
      ],
      "text/plain": [
       "   cowcode  year  warstds  autonomy    popdense       army85      milper  \\\n",
       "0      700  1945        0  0.005151  118.554791  129472.9042  121.087366   \n",
       "1      700  1946        0  0.000000  117.756342  129413.0225  121.885359   \n",
       "2      700  1947        0  0.000000  118.280656  130431.0145  122.780608   \n",
       "3      700  1948        0  0.000000  118.325869  126781.6866  118.256427   \n",
       "4      700  1949        0  0.000000  118.312296  130979.2470  122.245074   \n",
       "\n",
       "       trade        nmgdp  autch98  ...   mirps1    mirps2    mirps3  \\\n",
       "0  72.881375  4508.131692        0  ...  0.16935  0.313143  0.373714   \n",
       "1  72.900089  4491.340308        0  ...  0.00000  1.000000  0.000000   \n",
       "2  72.962880  4484.267686        0  ...  0.00000  1.000000  0.000000   \n",
       "3  73.102449  4474.082672        0  ...  0.00000  1.000000  0.000000   \n",
       "4  72.850389  4497.299503        0  ...  0.00000  1.000000  0.000000   \n",
       "\n",
       "      sxpsq      pol4sq  decade1  decade2  decade3  decade4  proxregc  \n",
       "0  0.052989   61.493014        0        0        0        0  0.143299  \n",
       "1  0.052663  100.000000        0        0        0        0  1.000000  \n",
       "2  0.052891  100.000000        0        0        0        0  1.000000  \n",
       "3  0.052902  100.000000        0        0        0        0  1.000000  \n",
       "4  0.052706  100.000000        0        0        0        0  1.000000  \n",
       "\n",
       "[5 rows x 91 columns]"
      ]
     },
     "execution_count": 5,
     "metadata": {},
     "output_type": "execute_result"
    }
   ],
   "source": [
    "# Load raw data \n",
    "df = pd.read_csv('data/SambnisImp.csv', usecols = rf_cols + label_col + ['cowcode', 'year'])\n",
    "\n",
    "# Print dimension information about the dataset\n",
    "print(f'Raw data dimensions: {df.shape}')\n",
    "\n",
    "# Print first 5 columns\n",
    "df.head()"
   ]
  },
  {
   "cell_type": "markdown",
   "metadata": {},
   "source": [
    "A necessary cleaning step for our analysis was to correct the geographical dummy variables. These variables describe whether a country is in a given geographical area or not.\n",
    "\n",
    "As can be seen on the subset below, their values in the year 2000 suddenly differ from the previous years. We simply corrected them by imputing the same values as the previous year."
   ]
  },
  {
   "cell_type": "code",
   "execution_count": 6,
   "metadata": {},
   "outputs": [
    {
     "name": "stdout",
     "output_type": "stream",
     "text": [
      "Column \"geo1\" -- number of unique values before 2000: 2\n",
      "Column \"geo1\" -- number of unique values after 2000: 168 \n",
      "\n",
      "Column \"geo2\" -- number of unique values before 2000: 2\n",
      "Column \"geo2\" -- number of unique values after 2000: 168 \n",
      "\n",
      "Column \"geo34\" -- number of unique values before 2000: 2\n",
      "Column \"geo34\" -- number of unique values after 2000: 168 \n",
      "\n",
      "Column \"geo57\" -- number of unique values before 2000: 2\n",
      "Column \"geo57\" -- number of unique values after 2000: 168 \n",
      "\n",
      "Column \"geo69\" -- number of unique values before 2000: 2\n",
      "Column \"geo69\" -- number of unique values after 2000: 168 \n",
      "\n",
      "Column \"geo8\" -- number of unique values before 2000: 2\n",
      "Column \"geo8\" -- number of unique values after 2000: 168 \n",
      "\n"
     ]
    },
    {
     "data": {
      "text/html": [
       "<div>\n",
       "<style scoped>\n",
       "    .dataframe tbody tr th:only-of-type {\n",
       "        vertical-align: middle;\n",
       "    }\n",
       "\n",
       "    .dataframe tbody tr th {\n",
       "        vertical-align: top;\n",
       "    }\n",
       "\n",
       "    .dataframe thead th {\n",
       "        text-align: right;\n",
       "    }\n",
       "</style>\n",
       "<table border=\"1\" class=\"dataframe\">\n",
       "  <thead>\n",
       "    <tr style=\"text-align: right;\">\n",
       "      <th></th>\n",
       "      <th>geo1</th>\n",
       "      <th>geo2</th>\n",
       "      <th>geo34</th>\n",
       "      <th>geo57</th>\n",
       "      <th>geo69</th>\n",
       "      <th>geo8</th>\n",
       "      <th>year</th>\n",
       "    </tr>\n",
       "  </thead>\n",
       "  <tbody>\n",
       "    <tr>\n",
       "      <th>51</th>\n",
       "      <td>0.000000</td>\n",
       "      <td>0.000000</td>\n",
       "      <td>0.000000</td>\n",
       "      <td>1.000000</td>\n",
       "      <td>0.000000</td>\n",
       "      <td>0.000000</td>\n",
       "      <td>1996</td>\n",
       "    </tr>\n",
       "    <tr>\n",
       "      <th>52</th>\n",
       "      <td>0.000000</td>\n",
       "      <td>0.000000</td>\n",
       "      <td>0.000000</td>\n",
       "      <td>1.000000</td>\n",
       "      <td>0.000000</td>\n",
       "      <td>0.000000</td>\n",
       "      <td>1997</td>\n",
       "    </tr>\n",
       "    <tr>\n",
       "      <th>53</th>\n",
       "      <td>0.000000</td>\n",
       "      <td>0.000000</td>\n",
       "      <td>0.000000</td>\n",
       "      <td>1.000000</td>\n",
       "      <td>0.000000</td>\n",
       "      <td>0.000000</td>\n",
       "      <td>1998</td>\n",
       "    </tr>\n",
       "    <tr>\n",
       "      <th>54</th>\n",
       "      <td>0.000000</td>\n",
       "      <td>0.000000</td>\n",
       "      <td>0.000000</td>\n",
       "      <td>1.000000</td>\n",
       "      <td>0.000000</td>\n",
       "      <td>0.000000</td>\n",
       "      <td>1999</td>\n",
       "    </tr>\n",
       "    <tr>\n",
       "      <th>55</th>\n",
       "      <td>0.043486</td>\n",
       "      <td>0.025207</td>\n",
       "      <td>0.150831</td>\n",
       "      <td>0.306190</td>\n",
       "      <td>0.130828</td>\n",
       "      <td>0.343459</td>\n",
       "      <td>2000</td>\n",
       "    </tr>\n",
       "    <tr>\n",
       "      <th>...</th>\n",
       "      <td>...</td>\n",
       "      <td>...</td>\n",
       "      <td>...</td>\n",
       "      <td>...</td>\n",
       "      <td>...</td>\n",
       "      <td>...</td>\n",
       "      <td>...</td>\n",
       "    </tr>\n",
       "    <tr>\n",
       "      <th>7135</th>\n",
       "      <td>0.000000</td>\n",
       "      <td>0.000000</td>\n",
       "      <td>0.000000</td>\n",
       "      <td>0.000000</td>\n",
       "      <td>0.000000</td>\n",
       "      <td>1.000000</td>\n",
       "      <td>1996</td>\n",
       "    </tr>\n",
       "    <tr>\n",
       "      <th>7136</th>\n",
       "      <td>0.000000</td>\n",
       "      <td>0.000000</td>\n",
       "      <td>0.000000</td>\n",
       "      <td>0.000000</td>\n",
       "      <td>0.000000</td>\n",
       "      <td>1.000000</td>\n",
       "      <td>1997</td>\n",
       "    </tr>\n",
       "    <tr>\n",
       "      <th>7137</th>\n",
       "      <td>0.000000</td>\n",
       "      <td>0.000000</td>\n",
       "      <td>0.000000</td>\n",
       "      <td>0.000000</td>\n",
       "      <td>0.000000</td>\n",
       "      <td>1.000000</td>\n",
       "      <td>1998</td>\n",
       "    </tr>\n",
       "    <tr>\n",
       "      <th>7138</th>\n",
       "      <td>0.000000</td>\n",
       "      <td>0.000000</td>\n",
       "      <td>0.000000</td>\n",
       "      <td>0.000000</td>\n",
       "      <td>0.000000</td>\n",
       "      <td>1.000000</td>\n",
       "      <td>1999</td>\n",
       "    </tr>\n",
       "    <tr>\n",
       "      <th>7139</th>\n",
       "      <td>0.194091</td>\n",
       "      <td>0.097788</td>\n",
       "      <td>0.125927</td>\n",
       "      <td>0.144991</td>\n",
       "      <td>0.214962</td>\n",
       "      <td>0.222242</td>\n",
       "      <td>2000</td>\n",
       "    </tr>\n",
       "  </tbody>\n",
       "</table>\n",
       "<p>846 rows × 7 columns</p>\n",
       "</div>"
      ],
      "text/plain": [
       "          geo1      geo2     geo34     geo57     geo69      geo8  year\n",
       "51    0.000000  0.000000  0.000000  1.000000  0.000000  0.000000  1996\n",
       "52    0.000000  0.000000  0.000000  1.000000  0.000000  0.000000  1997\n",
       "53    0.000000  0.000000  0.000000  1.000000  0.000000  0.000000  1998\n",
       "54    0.000000  0.000000  0.000000  1.000000  0.000000  0.000000  1999\n",
       "55    0.043486  0.025207  0.150831  0.306190  0.130828  0.343459  2000\n",
       "...        ...       ...       ...       ...       ...       ...   ...\n",
       "7135  0.000000  0.000000  0.000000  0.000000  0.000000  1.000000  1996\n",
       "7136  0.000000  0.000000  0.000000  0.000000  0.000000  1.000000  1997\n",
       "7137  0.000000  0.000000  0.000000  0.000000  0.000000  1.000000  1998\n",
       "7138  0.000000  0.000000  0.000000  0.000000  0.000000  1.000000  1999\n",
       "7139  0.194091  0.097788  0.125927  0.144991  0.214962  0.222242  2000\n",
       "\n",
       "[846 rows x 7 columns]"
      ]
     },
     "execution_count": 6,
     "metadata": {},
     "output_type": "execute_result"
    }
   ],
   "source": [
    "error_year = 2000\n",
    "\n",
    "geo_cols = list(df.columns[df.columns.str.startswith('geo')])\n",
    "\n",
    "for col in geo_cols:\n",
    "    print(f'Column \"{col}\" -- number of unique values before 2000: {len(df[df.year < 2000][col].unique())}')\n",
    "    print(f'Column \"{col}\" -- number of unique values after 2000: {len(df[col].unique())} \\n')\n",
    "    \n",
    "df[df.year.isin(range(error_year-4, error_year+1))].loc[:,geo_cols + ['year']]"
   ]
  },
  {
   "cell_type": "code",
   "execution_count": 7,
   "metadata": {},
   "outputs": [
    {
     "data": {
      "text/html": [
       "<div>\n",
       "<style scoped>\n",
       "    .dataframe tbody tr th:only-of-type {\n",
       "        vertical-align: middle;\n",
       "    }\n",
       "\n",
       "    .dataframe tbody tr th {\n",
       "        vertical-align: top;\n",
       "    }\n",
       "\n",
       "    .dataframe thead th {\n",
       "        text-align: right;\n",
       "    }\n",
       "</style>\n",
       "<table border=\"1\" class=\"dataframe\">\n",
       "  <thead>\n",
       "    <tr style=\"text-align: right;\">\n",
       "      <th></th>\n",
       "      <th>geo1</th>\n",
       "      <th>geo2</th>\n",
       "      <th>geo34</th>\n",
       "      <th>geo57</th>\n",
       "      <th>geo69</th>\n",
       "      <th>geo8</th>\n",
       "      <th>year</th>\n",
       "    </tr>\n",
       "  </thead>\n",
       "  <tbody>\n",
       "    <tr>\n",
       "      <th>51</th>\n",
       "      <td>0.0</td>\n",
       "      <td>0.0</td>\n",
       "      <td>0.0</td>\n",
       "      <td>1.0</td>\n",
       "      <td>0.0</td>\n",
       "      <td>0.0</td>\n",
       "      <td>1996</td>\n",
       "    </tr>\n",
       "    <tr>\n",
       "      <th>52</th>\n",
       "      <td>0.0</td>\n",
       "      <td>0.0</td>\n",
       "      <td>0.0</td>\n",
       "      <td>1.0</td>\n",
       "      <td>0.0</td>\n",
       "      <td>0.0</td>\n",
       "      <td>1997</td>\n",
       "    </tr>\n",
       "    <tr>\n",
       "      <th>53</th>\n",
       "      <td>0.0</td>\n",
       "      <td>0.0</td>\n",
       "      <td>0.0</td>\n",
       "      <td>1.0</td>\n",
       "      <td>0.0</td>\n",
       "      <td>0.0</td>\n",
       "      <td>1998</td>\n",
       "    </tr>\n",
       "    <tr>\n",
       "      <th>54</th>\n",
       "      <td>0.0</td>\n",
       "      <td>0.0</td>\n",
       "      <td>0.0</td>\n",
       "      <td>1.0</td>\n",
       "      <td>0.0</td>\n",
       "      <td>0.0</td>\n",
       "      <td>1999</td>\n",
       "    </tr>\n",
       "    <tr>\n",
       "      <th>55</th>\n",
       "      <td>0.0</td>\n",
       "      <td>0.0</td>\n",
       "      <td>0.0</td>\n",
       "      <td>1.0</td>\n",
       "      <td>0.0</td>\n",
       "      <td>0.0</td>\n",
       "      <td>2000</td>\n",
       "    </tr>\n",
       "    <tr>\n",
       "      <th>...</th>\n",
       "      <td>...</td>\n",
       "      <td>...</td>\n",
       "      <td>...</td>\n",
       "      <td>...</td>\n",
       "      <td>...</td>\n",
       "      <td>...</td>\n",
       "      <td>...</td>\n",
       "    </tr>\n",
       "    <tr>\n",
       "      <th>7135</th>\n",
       "      <td>0.0</td>\n",
       "      <td>0.0</td>\n",
       "      <td>0.0</td>\n",
       "      <td>0.0</td>\n",
       "      <td>0.0</td>\n",
       "      <td>1.0</td>\n",
       "      <td>1996</td>\n",
       "    </tr>\n",
       "    <tr>\n",
       "      <th>7136</th>\n",
       "      <td>0.0</td>\n",
       "      <td>0.0</td>\n",
       "      <td>0.0</td>\n",
       "      <td>0.0</td>\n",
       "      <td>0.0</td>\n",
       "      <td>1.0</td>\n",
       "      <td>1997</td>\n",
       "    </tr>\n",
       "    <tr>\n",
       "      <th>7137</th>\n",
       "      <td>0.0</td>\n",
       "      <td>0.0</td>\n",
       "      <td>0.0</td>\n",
       "      <td>0.0</td>\n",
       "      <td>0.0</td>\n",
       "      <td>1.0</td>\n",
       "      <td>1998</td>\n",
       "    </tr>\n",
       "    <tr>\n",
       "      <th>7138</th>\n",
       "      <td>0.0</td>\n",
       "      <td>0.0</td>\n",
       "      <td>0.0</td>\n",
       "      <td>0.0</td>\n",
       "      <td>0.0</td>\n",
       "      <td>1.0</td>\n",
       "      <td>1999</td>\n",
       "    </tr>\n",
       "    <tr>\n",
       "      <th>7139</th>\n",
       "      <td>0.0</td>\n",
       "      <td>0.0</td>\n",
       "      <td>0.0</td>\n",
       "      <td>0.0</td>\n",
       "      <td>0.0</td>\n",
       "      <td>1.0</td>\n",
       "      <td>2000</td>\n",
       "    </tr>\n",
       "  </tbody>\n",
       "</table>\n",
       "<p>846 rows × 7 columns</p>\n",
       "</div>"
      ],
      "text/plain": [
       "      geo1  geo2  geo34  geo57  geo69  geo8  year\n",
       "51     0.0   0.0    0.0    1.0    0.0   0.0  1996\n",
       "52     0.0   0.0    0.0    1.0    0.0   0.0  1997\n",
       "53     0.0   0.0    0.0    1.0    0.0   0.0  1998\n",
       "54     0.0   0.0    0.0    1.0    0.0   0.0  1999\n",
       "55     0.0   0.0    0.0    1.0    0.0   0.0  2000\n",
       "...    ...   ...    ...    ...    ...   ...   ...\n",
       "7135   0.0   0.0    0.0    0.0    0.0   1.0  1996\n",
       "7136   0.0   0.0    0.0    0.0    0.0   1.0  1997\n",
       "7137   0.0   0.0    0.0    0.0    0.0   1.0  1998\n",
       "7138   0.0   0.0    0.0    0.0    0.0   1.0  1999\n",
       "7139   0.0   0.0    0.0    0.0    0.0   1.0  2000\n",
       "\n",
       "[846 rows x 7 columns]"
      ]
     },
     "execution_count": 7,
     "metadata": {},
     "output_type": "execute_result"
    }
   ],
   "source": [
    "# Cleaning step:\n",
    "# For each country in the year 2000\n",
    "\n",
    "for country in df.cowcode.unique():\n",
    "    # Identify the country-2000 row index\n",
    "    idx = df[(df.cowcode == country) & (df.year == error_year)].index\n",
    "    \n",
    "    if idx.empty:\n",
    "        # Ignore this step if the country did not exist in the year 2000 \n",
    "        continue\n",
    "    \n",
    "    # Replace 2000 data with 1999 data\n",
    "    df.loc[idx,geo_cols] = df.loc[idx-1,geo_cols].values\n",
    "\n",
    "# Sanity check: print the cleaned geographical columns\n",
    "df[df.year.isin(range(error_year-4, error_year+1))].loc[:,geo_cols + ['year']]"
   ]
  },
  {
   "cell_type": "markdown",
   "metadata": {},
   "source": [
    "## Step 2: Comparing machine learning algorithms for civil war onset classification\n",
    "---\n",
    "\n",
    "In this section, we will benchmark the results obtained by Muchlinski et al. [5] with Random Forests against two other machine learning algorithms: multi-layer perceptrons and gradient boosted trees (XGBoost). \n",
    "\n",
    "As we intend to investigate the effect of spatial data separation in a subsequent step, we will here ignore the geographical dummy variables and only work with 88-6 = 82 features.\n",
    "\n",
    "For each model, we performed hyperparameter optimization through cross-validated grid-search. \n",
    "\n",
    "Model performance was then evaluated on $15\\%$ of the dataset using three metrics: ROC-AUC and F1 scores as in Muchlinski et al. [5], and also the area under the precision-recall curve (PR-AUC). Although normally suited for binary classification, the receiver operating characteristic (ROC) curve (Sensitivity vs. 1 - Specificity) is less informative for imbalanced problems with a few positive examples [6]. Indeed, while **recall** is equivalent to **sensitivity**, **specificity** cannot capture data skew as well as **precision**."
   ]
  },
  {
   "cell_type": "code",
   "execution_count": 161,
   "metadata": {},
   "outputs": [],
   "source": [
    "# Load the dataset for this step\n",
    "\n",
    "X = df.drop(['warstds', 'year', 'cowcode'] + geo_cols, axis=1).values\n",
    "y = df['warstds'].values"
   ]
  },
  {
   "cell_type": "markdown",
   "metadata": {},
   "source": [
    "We tuned 2 hyperparameters for each model:\n",
    "\n",
    " * Random Forests:\n",
    "     * _max_features_: the number of features to consider to build the tree splits --> either $\\sqrt D$ or $\\log(D)$, with $D$ the number of features.\n",
    "     * _max_samples_: the number of samples to draw from the feature matrix to build each tree --> either two-thirds or the entirety of the $N$ samples\n",
    "  \n",
    " * XGBoost:\n",
    "     * _max_depth_: maximum depth of a tree --> either 3, 6 (default) or 9\n",
    "     * _subsample_: the number of samples to draw from the feature matrix to build each tree --> either two-thirds or the entirety of the $N$ samples\n",
    "  \n",
    " * Multi-layer perceptron:\n",
    "     * _alpha_: the amount of $L_2$ regularization\n",
    "     * _hidden_layer_sizes_: the number of hidden layers --> either 4 or 8 (the width of the hidden layers was set to the number of features)\n",
    "\n",
    "As the data is heavily imbalanced (approximate positive-negative ratio = $1:100$), downsampling of the majority class was performed. The sampling strategy was also optimized through grid search as different positive-negative ratios were explored ($1:7$, $1:3$ and $1:1$)."
   ]
  },
  {
   "cell_type": "code",
   "execution_count": 9,
   "metadata": {},
   "outputs": [],
   "source": [
    "params_rf = {'classification__n_estimators': [100],\n",
    "             'classification__max_features': ['sqrt', 'log2'],\n",
    "             'classification__random_state': [seed],\n",
    "             'classification__max_samples' : [2/3, 1],\n",
    "             'sampling__sampling_strategy': [0.125, 0.25, 0.5],\n",
    "             'sampling__random_state': [seed]\n",
    "            }\n",
    "\n",
    "params_xgb = {'classification__n_estimators': [100],\n",
    "              'classification__max_depth':[3, 6, 9], # Standard = 6, try 50% and 150% of default value\n",
    "              'classification__subsample': [2/3, 1], # Equivalent to max_samples \n",
    "              'classification__random_state': [seed],\n",
    "              'classification__booster': ['gbtree'], # Standard booster\n",
    "              'sampling__sampling_strategy': [0.125, 0.25, 0.5], # Different downsampling strategies (12.5%-25%-50% of war events)\n",
    "              'sampling__random_state': [seed]\n",
    "             }\n",
    "\n",
    "params_nn = {'classification__learning_rate': ['adaptive'],\n",
    "             'classification__alpha': [1e-4, 1e-3, 1e-2],\n",
    "             'classification__hidden_layer_sizes': [(X.shape[1],)*4, (X.shape[1],)*8], \n",
    "             'classification__learning_rate_init': [1e-3],\n",
    "             'classification__random_state': [seed],\n",
    "             'sampling__sampling_strategy': [0.125, 0.25, 0.5],\n",
    "             'sampling__random_state': [seed]\n",
    "            }"
   ]
  },
  {
   "cell_type": "markdown",
   "metadata": {},
   "source": [
    "#### Build the pipelines for each model"
   ]
  },
  {
   "cell_type": "code",
   "execution_count": 10,
   "metadata": {},
   "outputs": [],
   "source": [
    "# Random Forests\n",
    "rf = Pipeline([('sampling', RandomUnderSampler()),\n",
    "               ('classification', RandomForestClassifier())])\n",
    "\n",
    "# XGBoost\n",
    "xgb = Pipeline([('sampling', RandomUnderSampler()),\n",
    "                ('classification', XGBClassifier())])\n",
    "\n",
    "# Multi-layer perceptron\n",
    "nn = Pipeline([('sampling', RandomUnderSampler()),\n",
    "               ('classification', MLPClassifier())])"
   ]
  },
  {
   "cell_type": "code",
   "execution_count": 162,
   "metadata": {},
   "outputs": [
    {
     "data": {
      "text/plain": [
       "((7140, 83), (7140,))"
      ]
     },
     "execution_count": 162,
     "metadata": {},
     "output_type": "execute_result"
    }
   ],
   "source": [
    "X.shape, y.shape"
   ]
  },
  {
   "cell_type": "code",
   "execution_count": 163,
   "metadata": {},
   "outputs": [
    {
     "data": {
      "text/plain": [
       "[array([[0.0, 119.0619547, 130418.3413, ..., 0, 1.0, 'geo1'],\n",
       "        [0.0, 13.210820199999999, 126951.2289, ..., 0, 0.0625, 'geo8'],\n",
       "        [0.0, 117.3527787, 35000.0, ..., 1, 0.00390625, 'geo8'],\n",
       "        ...,\n",
       "        [0.0, 59.12166977, 165000.0, ..., 1, 3.47e-18, 'geo34'],\n",
       "        [0.0, 119.4001367, 129915.373, ..., 0, 0.25, 'geo57'],\n",
       "        [0.0, 118.86257490000001, 167935.2289, ..., 0, 3.81e-06, 'geo57']],\n",
       "       dtype=object),\n",
       " array([[0.0, 24.46686935, 46000.0, ..., 0, 0.25, 'geo8'],\n",
       "        [0.0, 137.39570619999998, 23000.0, ..., 0, 7.519999999999999e-37,\n",
       "         'geo1'],\n",
       "        [0.0, 4.028448105, 7000.0, ..., 0, 0.00390625, 'geo69'],\n",
       "        ...,\n",
       "        [0.0, 119.62437720000001, 130206.3644, ..., 0, 3.23e-27, 'geo8'],\n",
       "        [0.0, 10.31007004, 71000.0, ..., 0, 0.00024414099999999997,\n",
       "         'geo69'],\n",
       "        [0.0, 35.00022125, 15000.0, ..., 0, 0.000976563, 'geo8']],\n",
       "       dtype=object),\n",
       " array([0, 0, 0, ..., 0, 0, 0], dtype=int64),\n",
       " array([0, 0, 0, ..., 0, 0, 0], dtype=int64)]"
      ]
     },
     "execution_count": 163,
     "metadata": {},
     "output_type": "execute_result"
    }
   ],
   "source": [
    "stratify = True\n",
    "\n",
    "train_test_split(X, y, test_size=.15, random_state=seed,\n",
    "                 stratify= y if stratify else None)"
   ]
  },
  {
   "cell_type": "code",
   "execution_count": 164,
   "metadata": {},
   "outputs": [],
   "source": [
    "# Helper functions\n",
    "\n",
    "def find_categorical_features(X, N=20):\n",
    "    '''\n",
    "    Build a mask vector of continuous vs. categorical features for a given array\n",
    "    \n",
    "    The mask contains a 1 if the feature is continuous, 0 otherwise\n",
    "    \n",
    "    Parameters\n",
    "    ----------\n",
    "    X: ndarray\n",
    "        The feature matrix, size NxD\n",
    "        \n",
    "    N: int, default = 20\n",
    "        If a feature has more than N different values, then it is considered as \"continuous\"\n",
    "    \n",
    "    Returns\n",
    "    ----------\n",
    "    cat_cols: ndarray\n",
    "        A boolean vector of size (Dx1), containing 1 if the feature is continuous, 0 otherwise\n",
    "    '''\n",
    "    \n",
    "    cat_cols = np.ones(X.shape[1])\n",
    "\n",
    "    for i in range(X.shape[1]):\n",
    "        if len(np.unique(X[:,i])) <= N:\n",
    "            cat_cols[i] = 0\n",
    "    \n",
    "    return cat_cols.astype('bool')\n",
    "\n",
    "def fit_predict(X, y, clf, params, \n",
    "                test_size=0.15, n_splits=10, \n",
    "                scoring='average_precision', \n",
    "                seed=seed, normalize=False,\n",
    "                plotting=True, stratify=False):\n",
    "    '''\n",
    "    Fit and optimize a classifier by cross-validated hyperparameter optimization using a training set\n",
    "    And predict the best model in terms of PR-AUC, ROC-AUC, and F1 scores using a separate testing set\n",
    "    \n",
    "    Parameters\n",
    "    ----------\n",
    "    X: ndarray\n",
    "        The feature matrix\n",
    "        \n",
    "    y: ndarray\n",
    "        The ground-truth label vector\n",
    "        \n",
    "    clf: estimator\n",
    "        A sklearn estimator object\n",
    "        \n",
    "    params: dict or list of dict\n",
    "        A parameter grid for grid search optimization\n",
    "        \n",
    "    test_size: float, default = 0.15\n",
    "        Fraction of data allocated to the testing set\n",
    "        \n",
    "    n_splits: int, default = 10\n",
    "        Number of (stratified) cross-validation folds\n",
    "        \n",
    "    scoring: string, default = \"average_precision\"\n",
    "        A sklearn.metrics method name used to compare the different submodels during grid search\n",
    "        \n",
    "    seed: int, default = 20201106\n",
    "        A random seed to ensure replication\n",
    "        \n",
    "    normalize: bool, default = False\n",
    "        If True, standardize features to zero mean and unit variance\n",
    "    \n",
    "    plotting: bool, default = True\n",
    "        If True, plot resulting confusion matrix with best estimator\n",
    "    \n",
    "    stratify: bool, default = True\n",
    "        If True, splits the data in a stratified fashion using the class labels\n",
    "    \n",
    "    Returns\n",
    "    ----------\n",
    "    precision: array, shape = [n_thresholds + 1]\n",
    "        Precision vector for PR curve plotting\n",
    "        \n",
    "    recall: array, shape = [n_thresholds + 1]\n",
    "        Recall vector for PR curve plotting\n",
    "    \n",
    "    pr_auc: float\n",
    "        Area under the PR curve\n",
    "    \n",
    "    roc_auc: float\n",
    "        Area under the ROC curve\n",
    "    \n",
    "    f1: float\n",
    "        F1 score\n",
    "    \n",
    "    grid: estimator object\n",
    "        The best classifier from Grid-Search CV\n",
    "    '''\n",
    "    \n",
    "    # Split data\n",
    "    X_train, X_test, y_train, y_test = train_test_split(X, y, \n",
    "                                                        test_size=test_size, \n",
    "                                                        random_state=seed,\n",
    "                                                        stratify=y if stratify else None)\n",
    "    \n",
    "    n_classes = len(np.unique(y))\n",
    "    \n",
    "    if normalize:\n",
    "        # Standardize continuous features for MLP\n",
    "        scaler = StandardScaler()\n",
    "        non_cat_cols = find_categorical_features(X)\n",
    "        X_train[:,non_cat_cols] = scaler.fit_transform(X_train[:,non_cat_cols])\n",
    "        X_test[:,non_cat_cols] = scaler.transform(X_test[:,non_cat_cols])\n",
    "    \n",
    "    # Apply Grid Search CV\n",
    "    grid = GridSearchCV(clf, params, cv=n_splits, scoring=scoring, verbose=1)\n",
    "    grid.fit(X_train, y_train)\n",
    "    \n",
    "    # Predict probabilities and labels\n",
    "    y_pred_proba = grid.predict_proba(X_test)[:,1]\n",
    "    y_pred = grid.predict(X_test)\n",
    "    \n",
    "    # PR curve is more adapted to imbalanced datasets than ROC-AUC\n",
    "    precision, recall, _ = precision_recall_curve(y_test, y_pred_proba)\n",
    "    \n",
    "    # Get metrics\n",
    "    pr_auc = average_precision_score(y_test, y_pred_proba)\n",
    "    roc_auc = roc_auc_score(y_test, y_pred_proba)\n",
    "    f1 = f1_score(y_test, y_pred)\n",
    "    confmat = pd.DataFrame(confusion_matrix(y_test, y_pred), range(n_classes), range(n_classes))\n",
    "    \n",
    "    # Plot confusion matrix\n",
    "    if plotting:\n",
    "        confusion_matrix_visualization(grid, confmat, n_classes)\n",
    "    \n",
    "    return precision, recall, pr_auc, roc_auc, f1, grid\n",
    "\n",
    "def confusion_matrix_visualization(grid, confmat, N):\n",
    "    fig = plt.figure(figsize=(3,3))\n",
    "    \n",
    "    # Create color maps \n",
    "    cmap = colors.ListedColormap([palette[2]])\n",
    "    cmap2 = colors.ListedColormap(['white'])\n",
    "    \n",
    "    # Generate heatmap of confusion matrix (as two diagonals with different colors)\n",
    "    sns.heatmap(confmat.T, annot=True, mask = 1-np.eye(N), cmap=cmap,\n",
    "                annot_kws={'fontsize':11}, cbar=False, fmt='g')\n",
    "    sns.heatmap(confmat.T, annot=True, mask = np.eye(N), cmap=cmap2, \n",
    "                annot_kws={'color':'k', 'fontsize':11}, cbar=False, fmt='g')\n",
    "    \n",
    "    plt.ylabel('Predicted label')\n",
    "    plt.xlabel('True label')\n",
    "    plt.title(grid.estimator.steps[-1][-1].__str__().split('(')[0] + '\\n Confusion matrix: 1 = civil war onset, 0 = no civil war onset')\n",
    "    plt.show()"
   ]
  },
  {
   "cell_type": "code",
   "execution_count": 12,
   "metadata": {},
   "outputs": [],
   "source": [
    "# Initialize dictionary with data metrics\n",
    "comparison_data = {}"
   ]
  },
  {
   "cell_type": "code",
   "execution_count": 13,
   "metadata": {},
   "outputs": [
    {
     "name": "stdout",
     "output_type": "stream",
     "text": [
      "Fitting 10 folds for each of 12 candidates, totalling 120 fits\n"
     ]
    },
    {
     "name": "stderr",
     "output_type": "stream",
     "text": [
      "[Parallel(n_jobs=1)]: Using backend SequentialBackend with 1 concurrent workers.\n",
      "[Parallel(n_jobs=1)]: Done 120 out of 120 | elapsed:   40.4s finished\n"
     ]
    },
    {
     "data": {
      "image/png": "[encoded data removed]",
      "text/plain": [
       "<Figure size 216x216 with 1 Axes>"
      ]
     },
     "metadata": {
      "needs_background": "light"
     },
     "output_type": "display_data"
    }
   ],
   "source": [
    "p_rf, r_rf, pr_auc_rf, roc_auc_rf, f1_rf, grid_rf = fit_predict(X, y, rf, params_rf)\n",
    "\n",
    "comparison_data['RF'] = {'PR': pr_auc_rf, 'ROC': roc_auc_rf, 'F1': f1_rf}"
   ]
  },
  {
   "cell_type": "code",
   "execution_count": 54,
   "metadata": {},
   "outputs": [
    {
     "name": "stdout",
     "output_type": "stream",
     "text": [
      "Fitting 10 folds for each of 18 candidates, totalling 180 fits\n"
     ]
    },
    {
     "name": "stderr",
     "output_type": "stream",
     "text": [
      "[Parallel(n_jobs=1)]: Using backend SequentialBackend with 1 concurrent workers.\n",
      "[Parallel(n_jobs=1)]: Done 180 out of 180 | elapsed:  4.5min finished\n"
     ]
    },
    {
     "data": {
      "text/plain": [
       "GridSearchCV(cv=10,\n",
       "             estimator=Pipeline(steps=[('sampling', RandomUnderSampler()),\n",
       "                                       ('classification', MLPClassifier())]),\n",
       "             param_grid={'classification__alpha': [0.0001, 0.001, 0.01],\n",
       "                         'classification__hidden_layer_sizes': [(82, 82, 82,\n",
       "                                                                 82),\n",
       "                                                                (82, 82, 82, 82,\n",
       "                                                                 82, 82, 82,\n",
       "                                                                 82)],\n",
       "                         'classification__learning_rate': ['adaptive'],\n",
       "                         'classification__learning_rate_init': [0.001],\n",
       "                         'classification__random_state': [20201106],\n",
       "                         'sampling__random_state': [20201106],\n",
       "                         'sampling__sampling_strategy': [0.125, 0.25, 0.5]},\n",
       "             scoring='average_precision', verbose=1)"
      ]
     },
     "execution_count": 54,
     "metadata": {},
     "output_type": "execute_result"
    }
   ],
   "source": [
    "grid = GridSearchCV(nn, params_nn, cv=10, scoring='average_precision', verbose=1)\n",
    "grid.fit(X_train, y_train)"
   ]
  },
  {
   "cell_type": "code",
   "execution_count": 14,
   "metadata": {},
   "outputs": [
    {
     "name": "stdout",
     "output_type": "stream",
     "text": [
      "Fitting 10 folds for each of 18 candidates, totalling 180 fits\n"
     ]
    },
    {
     "name": "stderr",
     "output_type": "stream",
     "text": [
      "[Parallel(n_jobs=1)]: Using backend SequentialBackend with 1 concurrent workers.\n",
      "[Parallel(n_jobs=1)]: Done 180 out of 180 | elapsed:   37.3s finished\n"
     ]
    },
    {
     "data": {
      "image/png": "[encoded data removed]",
      "text/plain": [
       "<Figure size 216x216 with 1 Axes>"
      ]
     },
     "metadata": {
      "needs_background": "light"
     },
     "output_type": "display_data"
    }
   ],
   "source": [
    "p_xgb, r_xgb, pr_auc_xgb, roc_auc_xgb, f1_xgb, grid_xgb = fit_predict(X, y, xgb, params_xgb)\n",
    "\n",
    "comparison_data['XGB'] = {'PR': pr_auc_xgb, 'ROC': roc_auc_xgb, 'F1': f1_xgb}"
   ]
  },
  {
   "cell_type": "markdown",
   "metadata": {},
   "source": [
    "While tree-based methods are usually robust to strong data variance, feature scaling is a necessary preprocessing step for neural networks. Here, continuous variables were standardized to zero mean and unit variance before training."
   ]
  },
  {
   "cell_type": "code",
   "execution_count": 27,
   "metadata": {},
   "outputs": [
    {
     "name": "stdout",
     "output_type": "stream",
     "text": [
      "Fitting 10 folds for each of 18 candidates, totalling 180 fits\n"
     ]
    },
    {
     "name": "stderr",
     "output_type": "stream",
     "text": [
      "[Parallel(n_jobs=1)]: Using backend SequentialBackend with 1 concurrent workers.\n",
      "[Parallel(n_jobs=1)]: Done 180 out of 180 | elapsed:  6.3min finished\n"
     ]
    },
    {
     "data": {
      "image/png": "[encoded data removed]",
      "text/plain": [
       "<Figure size 216x216 with 1 Axes>"
      ]
     },
     "metadata": {
      "needs_background": "light"
     },
     "output_type": "display_data"
    }
   ],
   "source": [
    "p_nn, r_nn, pr_auc_nn, roc_auc_nn, f1_nn, grid_nn = fit_predict(X, y, nn, params_nn, normalize=True)\n",
    "\n",
    "comparison_data['NN'] = {'PR': pr_auc_nn, 'ROC': roc_auc_nn, 'F1': f1_nn}"
   ]
  },
  {
   "cell_type": "markdown",
   "metadata": {},
   "source": [
    "#### Summary evaluation data and PR-AUC plot"
   ]
  },
  {
   "cell_type": "code",
   "execution_count": 42,
   "metadata": {},
   "outputs": [
    {
     "data": {
      "text/html": [
       "<div>\n",
       "<style scoped>\n",
       "    .dataframe tbody tr th:only-of-type {\n",
       "        vertical-align: middle;\n",
       "    }\n",
       "\n",
       "    .dataframe tbody tr th {\n",
       "        vertical-align: top;\n",
       "    }\n",
       "\n",
       "    .dataframe thead th {\n",
       "        text-align: right;\n",
       "    }\n",
       "</style>\n",
       "<table border=\"1\" class=\"dataframe\">\n",
       "  <thead>\n",
       "    <tr style=\"text-align: right;\">\n",
       "      <th></th>\n",
       "      <th>PR</th>\n",
       "      <th>ROC</th>\n",
       "      <th>F1</th>\n",
       "    </tr>\n",
       "  </thead>\n",
       "  <tbody>\n",
       "    <tr>\n",
       "      <th>XGB</th>\n",
       "      <td>0.5442</td>\n",
       "      <td>0.9444</td>\n",
       "      <td>0.4478</td>\n",
       "    </tr>\n",
       "    <tr>\n",
       "      <th>RF</th>\n",
       "      <td>0.3403</td>\n",
       "      <td>0.9280</td>\n",
       "      <td>0.3830</td>\n",
       "    </tr>\n",
       "    <tr>\n",
       "      <th>NN</th>\n",
       "      <td>0.1233</td>\n",
       "      <td>0.8014</td>\n",
       "      <td>0.1389</td>\n",
       "    </tr>\n",
       "  </tbody>\n",
       "</table>\n",
       "</div>"
      ],
      "text/plain": [
       "         PR     ROC      F1\n",
       "XGB  0.5442  0.9444  0.4478\n",
       "RF   0.3403  0.9280  0.3830\n",
       "NN   0.1233  0.8014  0.1389"
      ]
     },
     "execution_count": 42,
     "metadata": {},
     "output_type": "execute_result"
    }
   ],
   "source": [
    "pd.DataFrame.from_dict(comparison_data).round(4).transpose().sort_values(by='PR', ascending=False)"
   ]
  },
  {
   "cell_type": "code",
   "execution_count": 41,
   "metadata": {},
   "outputs": [
    {
     "data": {
      "image/png": "[encoded data removed]",
      "text/plain": [
       "<Figure size 432x288 with 1 Axes>"
      ]
     },
     "metadata": {
      "needs_background": "light"
     },
     "output_type": "display_data"
    }
   ],
   "source": [
    "plt.plot(r_rf, p_rf, 'k--', label=f'Random Forest {pr_auc_rf:.2f}', alpha=0.5)\n",
    "plt.plot(r_xgb, p_xgb, 'k--', label=f'XGBoost {pr_auc_xgb:.2f}')\n",
    "plt.plot(r_nn, p_nn, 'k', label=f'MLP {pr_auc_nn:.2f}', alpha=0.2)\n",
    "plt.xlabel('Recall')\n",
    "plt.ylabel('Precision')\n",
    "plt.legend()\n",
    "plt.show()"
   ]
  },
  {
   "cell_type": "markdown",
   "metadata": {},
   "source": [
    "Looking at the ROC-AUC results, it seems that the implemented multi-layer perceptron (MLP) performed worse than tree-based methods, as both Random Forests and XGBoost achieved similar scores.\n",
    "\n",
    "That said, F1 and PR-AUC scores tell a different story with respect to Random Forests' predictive ability. Looking at these metrics, it seems XGBoost was far more robust at predicting civil events than Random Forest. The confusion matrices plotted above confirm this observation, as XGBoost was able to correctly classify **15** out of **20** civil war events, while Random Forests and MLP respectively predicted **9** and **5** civil war events.\n",
    "\n",
    "Concerning the tree-based methods, these observations are in accord with corrections of Muchlinski et al. [5]'s findings by Wang [7], who found a substantial difference in PR-AUC between Random Forests and gradient boosted trees (such as XGBoost) on a similar dataset.\n",
    "\n",
    "Overall, XGBoost was the best model for this task. In addition to its sheer rapidity, this algorithm has become increasingly popular for its performance in a variety of machine learning challenges [8, 9]."
   ]
  },
  {
   "cell_type": "code",
   "execution_count": 71,
   "metadata": {},
   "outputs": [],
   "source": [
    "def feature_importance_visualization(grid, X_test, y_test, N=20, seed=seed, scoring='average_precision'):\n",
    "    fig = plt.figure(figsize=(10,5))\n",
    "    \n",
    "    pi_mean = permutation_importance(grid, X_test, y_test, random_state=seed, scoring=scoring).importances_mean\n",
    "    \n",
    "    sorted_idx = np.argsort(-pi_mean)[:N]\n",
    "    \n",
    "    sns.pointplot(x=pi_mean[sorted_idx], \n",
    "                  y=df.drop(['cowcode', 'year', 'warstds'] + geo_cols, axis=1).columns[sorted_idx],\n",
    "                  join=False,\n",
    "                  color=palette[2])\n",
    "    \n",
    "    plt.grid(axis='y', alpha=0.3, linestyle='--')\n",
    "    plt.title(grid.estimator.steps[-1][-1].__str__().split('(')[0] + '\\n Permutation importance')\n",
    "    plt.ylabel('Features')\n",
    "    plt.xlabel('Feature importance')\n",
    "    plt.show()"
   ]
  },
  {
   "cell_type": "code",
   "execution_count": 72,
   "metadata": {},
   "outputs": [
    {
     "data": {
      "image/png": "[encoded data removed]",
      "text/plain": [
       "<Figure size 720x360 with 1 Axes>"
      ]
     },
     "metadata": {
      "needs_background": "light"
     },
     "output_type": "display_data"
    },
    {
     "data": {
      "image/png": "[encoded data removed]",
      "text/plain": [
       "<Figure size 720x360 with 1 Axes>"
      ]
     },
     "metadata": {
      "needs_background": "light"
     },
     "output_type": "display_data"
    },
    {
     "data": {
      "image/png": "[encoded data removed]",
      "text/plain": [
       "<Figure size 720x360 with 1 Axes>"
      ]
     },
     "metadata": {
      "needs_background": "light"
     },
     "output_type": "display_data"
    }
   ],
   "source": [
    "normalize_mask = [False, False, True]\n",
    "grids = [grid_rf, grid_xgb, grid_nn]\n",
    "\n",
    "X_train, X_test, y_train, y_test = train_test_split(X, y, test_size=.15, random_state=seed)\n",
    "\n",
    "for i, grid in enumerate(grids):\n",
    "    if normalize_mask[i]:\n",
    "        # Standardize continuous features for MLP\n",
    "        scaler = StandardScaler()\n",
    "        non_cat_cols = find_categorical_features(X)\n",
    "        X_train[:,non_cat_cols] = scaler.fit_transform(X_train[:,non_cat_cols])\n",
    "        X_test[:,non_cat_cols] = scaler.transform(X_test[:,non_cat_cols])\n",
    "    feature_importance_visualization(grid, X_test, y_test)"
   ]
  },
  {
   "cell_type": "markdown",
   "metadata": {},
   "source": [
    "Feature importance was evaluated via **permutation importance**, which evaluates the mean decrease in a given metric (here, average precision) when permuting the feature values.\n",
    "\n",
    "In the figures above, we observe that the tree-based decision methods (Random Forests and XGBoost) have similar feature importances. In particular, primary commodity export features, exports of goods and services, fuel exports, the relative amount of trade and the relative amount of military manpower are the top-6 features in both models.\n",
    "\n",
    "Contrary to the mean decrease in Gini score, this method is robust to feature cardinality. Hence, it is not surprising to observe that some political indicators (e.g., the Polity index or a dummy variable describing whether the state is semi-federal) that were surprisingly absent in Muchlinski et al.'s model [5] are present in the most important features of Random Forests and XGBoost. In spite of this, both methods share a fair amount of important variables with those of Muchlinski et al.'s model [5] (e.g., primary commodity export features, trade, military power, infant mortality, illiteracy).\n",
    "\n",
    "On the other hand, the multi-layer perceptron captures a lot more political indicators in its most important features, the top-3 features concern the \"political structure\" of the country (1. Whether it is a new state or not, 2. whether it is a federal state or not, 3. Polity annual change). That said, the trade-related features that were critical in the tree-based models are also present in top 10-20 features of the MLP."
   ]
  },
  {
   "cell_type": "markdown",
   "metadata": {},
   "source": [
    "## Step 3: Effect of spatial data separation\n",
    "---\n",
    "\n",
    "In this step, we will explore whether spatial separation of civil war data (i.e., by continent or subregion) can help improve predictive accuracy of civil war events.\n",
    "\n",
    "For this, we will split the datasets according to the dummy variables, and fit a XGBoost classifier for each subset. Once again, cross-validated grid-search will be used to optimize hyperparameters using the training set before evaluation on the test set."
   ]
  },
  {
   "cell_type": "markdown",
   "metadata": {},
   "source": [
    "First, let's perform a sanity check by making sure that each row has a 1 in at least of one of the geographical features"
   ]
  },
  {
   "cell_type": "code",
   "execution_count": 73,
   "metadata": {},
   "outputs": [],
   "source": [
    "# Sum the values of each geographical dummy variable for each row\n",
    "row_geo_sums = df.loc[:,geo_cols].sum(1)\n",
    "\n",
    "# Assert that each of these row sums is equal to 1\n",
    "assert(all(row_geo_sums == 1))"
   ]
  },
  {
   "cell_type": "code",
   "execution_count": 74,
   "metadata": {},
   "outputs": [
    {
     "name": "stdout",
     "output_type": "stream",
     "text": [
      "Number of civil war events in Western Europe and the US: 1\n",
      "Number of civil war events in Eastern Europe and Central Asia: 11\n",
      "Number of civil war events in Middle East and North \n",
      "Africa: 19\n",
      "Number of civil war events in South and East Asia and \n",
      "Oceania: 30\n",
      "Number of civil war events in Latin America: 18\n",
      "Number of civil war events in Sub-Saharan Africa: 37\n"
     ]
    }
   ],
   "source": [
    "for geo in geo_cols:\n",
    "    print(f'Number of civil war events in {mapping[geo].split(\"Region: \")[1]}: {df[df.loc[:,geo] == 1].warstds.sum()}')"
   ]
  },
  {
   "cell_type": "markdown",
   "metadata": {},
   "source": [
    "One limit of this analysis is that only one civil war event was reported in Western Europe and US (The Troubles in Northern Ireland (1969)) (among 1157 country-years). This is especially problematic as only the train set or the test set could have a positive example. Thus, we decided to ignore this subset. \n",
    "\n",
    "With that in mind, we decided to discard this region from this part. On top of this machine learning-driven explanation, this decision is also motivated when looking at economic, social and political indicators. In particular, we selected the five most important features from XGBoost in Step 1, and compared bootstrapped $95\\%$ confidence intervals around the mean of these features for each geographical area. We can see that some of the variables are substantially different for Western Europe and US countries, especially primary commodity and fuel exports."
   ]
  },
  {
   "cell_type": "code",
   "execution_count": 75,
   "metadata": {},
   "outputs": [],
   "source": [
    "# Helper function\n",
    "\n",
    "def feature_barplot_visualization(df, metric):\n",
    "    # Legend for future plotting\n",
    "    name_to_color = dict(zip([mapping[geo].split('Region: ')[1] for geo in geo_cols], palette))\n",
    "    patches = [matplotlib.patches.Patch(color=v, label=k) for k,v in name_to_color.items()]\n",
    "    \n",
    "    sns.barplot(y=metric, x='geo', data=df, order=sorted(df.geo.unique()), palette=palette) \n",
    "    sns.barplot(y=metric, x='geo', data=df, order=sorted(df.geo.unique()), palette=palette)    \n",
    "    plt.xlabel('Geographical area')\n",
    "    plt.legend(handles=patches, bbox_to_anchor=(1.05, 1))\n",
    "    plt.title(mapping[metric])\n",
    "    plt.show()"
   ]
  },
  {
   "cell_type": "code",
   "execution_count": 76,
   "metadata": {},
   "outputs": [
    {
     "data": {
      "image/png": "[encoded data removed]",
      "text/plain": [
       "<Figure size 432x288 with 1 Axes>"
      ]
     },
     "metadata": {
      "needs_background": "light"
     },
     "output_type": "display_data"
    },
    {
     "data": {
      "image/png": "[encoded data removed]",
      "text/plain": [
       "<Figure size 432x288 with 1 Axes>"
      ]
     },
     "metadata": {
      "needs_background": "light"
     },
     "output_type": "display_data"
    },
    {
     "data": {
      "image/png": "[encoded data removed]",
      "text/plain": [
       "<Figure size 432x288 with 1 Axes>"
      ]
     },
     "metadata": {
      "needs_background": "light"
     },
     "output_type": "display_data"
    },
    {
     "data": {
      "image/png": "[encoded data removed]",
      "text/plain": [
       "<Figure size 432x288 with 1 Axes>"
      ]
     },
     "metadata": {
      "needs_background": "light"
     },
     "output_type": "display_data"
    },
    {
     "data": {
      "image/png": "[encoded data removed]",
      "text/plain": [
       "<Figure size 432x288 with 1 Axes>"
      ]
     },
     "metadata": {
      "needs_background": "light"
     },
     "output_type": "display_data"
    }
   ],
   "source": [
    "# Build a \"geo\" column with the name of the geographical area of each country-year\n",
    "df['geo'] = None\n",
    "\n",
    "for geo in geo_cols:\n",
    "    df['geo'] = [geo if x == 1 else df.geo[i] for i, x in enumerate(df.loc[:,geo])]\n",
    "\n",
    "# 5 most important metrics of XGBoost\n",
    "metrics = ['sxpsq', 'sxpnew', 'trade', 'fuelexp', 'expgdp']\n",
    "\n",
    "for metric in metrics:\n",
    "    feature_barplot_visualization(df, metric)"
   ]
  },
  {
   "cell_type": "markdown",
   "metadata": {},
   "source": [
    "After discarding Western Europe & US data, let's fit XGBoost on each of them using the same procedure as in Step 1."
   ]
  },
  {
   "cell_type": "code",
   "execution_count": 77,
   "metadata": {},
   "outputs": [
    {
     "name": "stdout",
     "output_type": "stream",
     "text": [
      "################################################################################\n",
      "Fitting XGBoost for: geo2 (Eastern Europe and Central Asia)\n",
      "################################################################################\n",
      "Fitting 5 folds for each of 18 candidates, totalling 90 fits\n"
     ]
    },
    {
     "name": "stderr",
     "output_type": "stream",
     "text": [
      "[Parallel(n_jobs=1)]: Using backend SequentialBackend with 1 concurrent workers.\n",
      "[Parallel(n_jobs=1)]: Done  90 out of  90 | elapsed:    4.9s finished\n",
      "[Parallel(n_jobs=1)]: Using backend SequentialBackend with 1 concurrent workers.\n"
     ]
    },
    {
     "name": "stdout",
     "output_type": "stream",
     "text": [
      "Fitting 5 folds for each of 18 candidates, totalling 90 fits\n"
     ]
    },
    {
     "name": "stderr",
     "output_type": "stream",
     "text": [
      "[Parallel(n_jobs=1)]: Done  90 out of  90 | elapsed:    4.7s finished\n",
      "[Parallel(n_jobs=1)]: Using backend SequentialBackend with 1 concurrent workers.\n"
     ]
    },
    {
     "name": "stdout",
     "output_type": "stream",
     "text": [
      "Fitting 5 folds for each of 18 candidates, totalling 90 fits\n"
     ]
    },
    {
     "name": "stderr",
     "output_type": "stream",
     "text": [
      "[Parallel(n_jobs=1)]: Done  90 out of  90 | elapsed:    4.7s finished\n",
      "[Parallel(n_jobs=1)]: Using backend SequentialBackend with 1 concurrent workers.\n"
     ]
    },
    {
     "name": "stdout",
     "output_type": "stream",
     "text": [
      "Fitting 5 folds for each of 18 candidates, totalling 90 fits\n"
     ]
    },
    {
     "name": "stderr",
     "output_type": "stream",
     "text": [
      "[Parallel(n_jobs=1)]: Done  90 out of  90 | elapsed:    5.1s finished\n",
      "[Parallel(n_jobs=1)]: Using backend SequentialBackend with 1 concurrent workers.\n"
     ]
    },
    {
     "name": "stdout",
     "output_type": "stream",
     "text": [
      "Fitting 5 folds for each of 18 candidates, totalling 90 fits\n"
     ]
    },
    {
     "name": "stderr",
     "output_type": "stream",
     "text": [
      "[Parallel(n_jobs=1)]: Done  90 out of  90 | elapsed:    5.1s finished\n",
      "[Parallel(n_jobs=1)]: Using backend SequentialBackend with 1 concurrent workers.\n"
     ]
    },
    {
     "name": "stdout",
     "output_type": "stream",
     "text": [
      "Fitting 5 folds for each of 18 candidates, totalling 90 fits\n"
     ]
    },
    {
     "name": "stderr",
     "output_type": "stream",
     "text": [
      "[Parallel(n_jobs=1)]: Done  90 out of  90 | elapsed:    5.1s finished\n",
      "[Parallel(n_jobs=1)]: Using backend SequentialBackend with 1 concurrent workers.\n"
     ]
    },
    {
     "name": "stdout",
     "output_type": "stream",
     "text": [
      "Fitting 5 folds for each of 18 candidates, totalling 90 fits\n"
     ]
    },
    {
     "name": "stderr",
     "output_type": "stream",
     "text": [
      "[Parallel(n_jobs=1)]: Done  90 out of  90 | elapsed:    5.0s finished\n",
      "[Parallel(n_jobs=1)]: Using backend SequentialBackend with 1 concurrent workers.\n"
     ]
    },
    {
     "name": "stdout",
     "output_type": "stream",
     "text": [
      "Fitting 5 folds for each of 18 candidates, totalling 90 fits\n"
     ]
    },
    {
     "name": "stderr",
     "output_type": "stream",
     "text": [
      "[Parallel(n_jobs=1)]: Done  90 out of  90 | elapsed:    5.0s finished\n",
      "[Parallel(n_jobs=1)]: Using backend SequentialBackend with 1 concurrent workers.\n"
     ]
    },
    {
     "name": "stdout",
     "output_type": "stream",
     "text": [
      "Fitting 5 folds for each of 18 candidates, totalling 90 fits\n"
     ]
    },
    {
     "name": "stderr",
     "output_type": "stream",
     "text": [
      "[Parallel(n_jobs=1)]: Done  90 out of  90 | elapsed:    5.1s finished\n",
      "[Parallel(n_jobs=1)]: Using backend SequentialBackend with 1 concurrent workers.\n"
     ]
    },
    {
     "name": "stdout",
     "output_type": "stream",
     "text": [
      "Fitting 5 folds for each of 18 candidates, totalling 90 fits\n"
     ]
    },
    {
     "name": "stderr",
     "output_type": "stream",
     "text": [
      "[Parallel(n_jobs=1)]: Done  90 out of  90 | elapsed:    5.5s finished\n",
      "[Parallel(n_jobs=1)]: Using backend SequentialBackend with 1 concurrent workers.\n"
     ]
    },
    {
     "name": "stdout",
     "output_type": "stream",
     "text": [
      "################################################################################\n",
      "Fitting XGBoost for: geo34 (Middle East and North \n",
      "Africa)\n",
      "################################################################################\n",
      "Fitting 5 folds for each of 18 candidates, totalling 90 fits\n"
     ]
    },
    {
     "name": "stderr",
     "output_type": "stream",
     "text": [
      "[Parallel(n_jobs=1)]: Done  90 out of  90 | elapsed:    6.5s finished\n",
      "[Parallel(n_jobs=1)]: Using backend SequentialBackend with 1 concurrent workers.\n"
     ]
    },
    {
     "name": "stdout",
     "output_type": "stream",
     "text": [
      "Fitting 5 folds for each of 18 candidates, totalling 90 fits\n"
     ]
    },
    {
     "name": "stderr",
     "output_type": "stream",
     "text": [
      "[Parallel(n_jobs=1)]: Done  90 out of  90 | elapsed:    6.7s finished\n",
      "[Parallel(n_jobs=1)]: Using backend SequentialBackend with 1 concurrent workers.\n"
     ]
    },
    {
     "name": "stdout",
     "output_type": "stream",
     "text": [
      "Fitting 5 folds for each of 18 candidates, totalling 90 fits\n"
     ]
    },
    {
     "name": "stderr",
     "output_type": "stream",
     "text": [
      "[Parallel(n_jobs=1)]: Done  90 out of  90 | elapsed:    7.5s finished\n",
      "[Parallel(n_jobs=1)]: Using backend SequentialBackend with 1 concurrent workers.\n"
     ]
    },
    {
     "name": "stdout",
     "output_type": "stream",
     "text": [
      "Fitting 5 folds for each of 18 candidates, totalling 90 fits\n"
     ]
    },
    {
     "name": "stderr",
     "output_type": "stream",
     "text": [
      "[Parallel(n_jobs=1)]: Done  90 out of  90 | elapsed:    6.5s finished\n",
      "[Parallel(n_jobs=1)]: Using backend SequentialBackend with 1 concurrent workers.\n"
     ]
    },
    {
     "name": "stdout",
     "output_type": "stream",
     "text": [
      "Fitting 5 folds for each of 18 candidates, totalling 90 fits\n"
     ]
    },
    {
     "name": "stderr",
     "output_type": "stream",
     "text": [
      "[Parallel(n_jobs=1)]: Done  90 out of  90 | elapsed:    6.1s finished\n",
      "[Parallel(n_jobs=1)]: Using backend SequentialBackend with 1 concurrent workers.\n"
     ]
    },
    {
     "name": "stdout",
     "output_type": "stream",
     "text": [
      "Fitting 5 folds for each of 18 candidates, totalling 90 fits\n"
     ]
    },
    {
     "name": "stderr",
     "output_type": "stream",
     "text": [
      "[Parallel(n_jobs=1)]: Done  90 out of  90 | elapsed:    6.1s finished\n",
      "[Parallel(n_jobs=1)]: Using backend SequentialBackend with 1 concurrent workers.\n"
     ]
    },
    {
     "name": "stdout",
     "output_type": "stream",
     "text": [
      "Fitting 5 folds for each of 18 candidates, totalling 90 fits\n"
     ]
    },
    {
     "name": "stderr",
     "output_type": "stream",
     "text": [
      "[Parallel(n_jobs=1)]: Done  90 out of  90 | elapsed:    5.9s finished\n",
      "[Parallel(n_jobs=1)]: Using backend SequentialBackend with 1 concurrent workers.\n"
     ]
    },
    {
     "name": "stdout",
     "output_type": "stream",
     "text": [
      "Fitting 5 folds for each of 18 candidates, totalling 90 fits\n"
     ]
    },
    {
     "name": "stderr",
     "output_type": "stream",
     "text": [
      "[Parallel(n_jobs=1)]: Done  90 out of  90 | elapsed:    5.9s finished\n",
      "[Parallel(n_jobs=1)]: Using backend SequentialBackend with 1 concurrent workers.\n"
     ]
    },
    {
     "name": "stdout",
     "output_type": "stream",
     "text": [
      "Fitting 5 folds for each of 18 candidates, totalling 90 fits\n"
     ]
    },
    {
     "name": "stderr",
     "output_type": "stream",
     "text": [
      "[Parallel(n_jobs=1)]: Done  90 out of  90 | elapsed:    6.0s finished\n",
      "[Parallel(n_jobs=1)]: Using backend SequentialBackend with 1 concurrent workers.\n"
     ]
    },
    {
     "name": "stdout",
     "output_type": "stream",
     "text": [
      "Fitting 5 folds for each of 18 candidates, totalling 90 fits\n"
     ]
    },
    {
     "name": "stderr",
     "output_type": "stream",
     "text": [
      "[Parallel(n_jobs=1)]: Done  90 out of  90 | elapsed:    6.2s finished\n",
      "[Parallel(n_jobs=1)]: Using backend SequentialBackend with 1 concurrent workers.\n"
     ]
    },
    {
     "name": "stdout",
     "output_type": "stream",
     "text": [
      "################################################################################\n",
      "Fitting XGBoost for: geo57 (South and East Asia and \n",
      "Oceania)\n",
      "################################################################################\n",
      "Fitting 5 folds for each of 18 candidates, totalling 90 fits\n"
     ]
    },
    {
     "name": "stderr",
     "output_type": "stream",
     "text": [
      "[Parallel(n_jobs=1)]: Done  90 out of  90 | elapsed:    7.7s finished\n",
      "[Parallel(n_jobs=1)]: Using backend SequentialBackend with 1 concurrent workers.\n"
     ]
    },
    {
     "name": "stdout",
     "output_type": "stream",
     "text": [
      "Fitting 5 folds for each of 18 candidates, totalling 90 fits\n"
     ]
    },
    {
     "name": "stderr",
     "output_type": "stream",
     "text": [
      "[Parallel(n_jobs=1)]: Done  90 out of  90 | elapsed:    7.0s finished\n",
      "[Parallel(n_jobs=1)]: Using backend SequentialBackend with 1 concurrent workers.\n"
     ]
    },
    {
     "name": "stdout",
     "output_type": "stream",
     "text": [
      "Fitting 5 folds for each of 18 candidates, totalling 90 fits\n"
     ]
    },
    {
     "name": "stderr",
     "output_type": "stream",
     "text": [
      "[Parallel(n_jobs=1)]: Done  90 out of  90 | elapsed:    7.4s finished\n",
      "[Parallel(n_jobs=1)]: Using backend SequentialBackend with 1 concurrent workers.\n"
     ]
    },
    {
     "name": "stdout",
     "output_type": "stream",
     "text": [
      "Fitting 5 folds for each of 18 candidates, totalling 90 fits\n"
     ]
    },
    {
     "name": "stderr",
     "output_type": "stream",
     "text": [
      "[Parallel(n_jobs=1)]: Done  90 out of  90 | elapsed:    8.1s finished\n"
     ]
    },
    {
     "name": "stdout",
     "output_type": "stream",
     "text": [
      "Fitting 5 folds for each of 18 candidates, totalling 90 fits\n"
     ]
    },
    {
     "name": "stderr",
     "output_type": "stream",
     "text": [
      "[Parallel(n_jobs=1)]: Using backend SequentialBackend with 1 concurrent workers.\n",
      "[Parallel(n_jobs=1)]: Done  90 out of  90 | elapsed:   11.8s finished\n",
      "[Parallel(n_jobs=1)]: Using backend SequentialBackend with 1 concurrent workers.\n"
     ]
    },
    {
     "name": "stdout",
     "output_type": "stream",
     "text": [
      "Fitting 5 folds for each of 18 candidates, totalling 90 fits\n"
     ]
    },
    {
     "name": "stderr",
     "output_type": "stream",
     "text": [
      "[Parallel(n_jobs=1)]: Done  90 out of  90 | elapsed:    7.2s finished\n",
      "[Parallel(n_jobs=1)]: Using backend SequentialBackend with 1 concurrent workers.\n"
     ]
    },
    {
     "name": "stdout",
     "output_type": "stream",
     "text": [
      "Fitting 5 folds for each of 18 candidates, totalling 90 fits\n"
     ]
    },
    {
     "name": "stderr",
     "output_type": "stream",
     "text": [
      "[Parallel(n_jobs=1)]: Done  90 out of  90 | elapsed:    7.1s finished\n"
     ]
    },
    {
     "name": "stdout",
     "output_type": "stream",
     "text": [
      "Fitting 5 folds for each of 18 candidates, totalling 90 fits\n"
     ]
    },
    {
     "name": "stderr",
     "output_type": "stream",
     "text": [
      "[Parallel(n_jobs=1)]: Using backend SequentialBackend with 1 concurrent workers.\n",
      "[Parallel(n_jobs=1)]: Done  90 out of  90 | elapsed:    7.6s finished\n",
      "[Parallel(n_jobs=1)]: Using backend SequentialBackend with 1 concurrent workers.\n"
     ]
    },
    {
     "name": "stdout",
     "output_type": "stream",
     "text": [
      "Fitting 5 folds for each of 18 candidates, totalling 90 fits\n"
     ]
    },
    {
     "name": "stderr",
     "output_type": "stream",
     "text": [
      "[Parallel(n_jobs=1)]: Done  90 out of  90 | elapsed:    8.5s finished\n",
      "[Parallel(n_jobs=1)]: Using backend SequentialBackend with 1 concurrent workers.\n"
     ]
    },
    {
     "name": "stdout",
     "output_type": "stream",
     "text": [
      "Fitting 5 folds for each of 18 candidates, totalling 90 fits\n"
     ]
    },
    {
     "name": "stderr",
     "output_type": "stream",
     "text": [
      "[Parallel(n_jobs=1)]: Done  90 out of  90 | elapsed:    8.9s finished\n",
      "[Parallel(n_jobs=1)]: Using backend SequentialBackend with 1 concurrent workers.\n"
     ]
    },
    {
     "name": "stdout",
     "output_type": "stream",
     "text": [
      "################################################################################\n",
      "Fitting XGBoost for: geo69 (Latin America)\n",
      "################################################################################\n",
      "Fitting 5 folds for each of 18 candidates, totalling 90 fits\n"
     ]
    },
    {
     "name": "stderr",
     "output_type": "stream",
     "text": [
      "[Parallel(n_jobs=1)]: Done  90 out of  90 | elapsed:    5.8s finished\n",
      "[Parallel(n_jobs=1)]: Using backend SequentialBackend with 1 concurrent workers.\n"
     ]
    },
    {
     "name": "stdout",
     "output_type": "stream",
     "text": [
      "Fitting 5 folds for each of 18 candidates, totalling 90 fits\n"
     ]
    },
    {
     "name": "stderr",
     "output_type": "stream",
     "text": [
      "[Parallel(n_jobs=1)]: Done  90 out of  90 | elapsed:    5.5s finished\n",
      "[Parallel(n_jobs=1)]: Using backend SequentialBackend with 1 concurrent workers.\n"
     ]
    },
    {
     "name": "stdout",
     "output_type": "stream",
     "text": [
      "Fitting 5 folds for each of 18 candidates, totalling 90 fits\n"
     ]
    },
    {
     "name": "stderr",
     "output_type": "stream",
     "text": [
      "[Parallel(n_jobs=1)]: Done  90 out of  90 | elapsed:    5.7s finished\n",
      "[Parallel(n_jobs=1)]: Using backend SequentialBackend with 1 concurrent workers.\n"
     ]
    },
    {
     "name": "stdout",
     "output_type": "stream",
     "text": [
      "Fitting 5 folds for each of 18 candidates, totalling 90 fits\n"
     ]
    },
    {
     "name": "stderr",
     "output_type": "stream",
     "text": [
      "[Parallel(n_jobs=1)]: Done  90 out of  90 | elapsed:    5.6s finished\n",
      "[Parallel(n_jobs=1)]: Using backend SequentialBackend with 1 concurrent workers.\n"
     ]
    },
    {
     "name": "stdout",
     "output_type": "stream",
     "text": [
      "Fitting 5 folds for each of 18 candidates, totalling 90 fits\n"
     ]
    },
    {
     "name": "stderr",
     "output_type": "stream",
     "text": [
      "[Parallel(n_jobs=1)]: Done  90 out of  90 | elapsed:    5.5s finished\n",
      "[Parallel(n_jobs=1)]: Using backend SequentialBackend with 1 concurrent workers.\n"
     ]
    },
    {
     "name": "stdout",
     "output_type": "stream",
     "text": [
      "Fitting 5 folds for each of 18 candidates, totalling 90 fits\n"
     ]
    },
    {
     "name": "stderr",
     "output_type": "stream",
     "text": [
      "[Parallel(n_jobs=1)]: Done  90 out of  90 | elapsed:    5.7s finished\n",
      "[Parallel(n_jobs=1)]: Using backend SequentialBackend with 1 concurrent workers.\n"
     ]
    },
    {
     "name": "stdout",
     "output_type": "stream",
     "text": [
      "Fitting 5 folds for each of 18 candidates, totalling 90 fits\n"
     ]
    },
    {
     "name": "stderr",
     "output_type": "stream",
     "text": [
      "[Parallel(n_jobs=1)]: Done  90 out of  90 | elapsed:    5.8s finished\n",
      "[Parallel(n_jobs=1)]: Using backend SequentialBackend with 1 concurrent workers.\n"
     ]
    },
    {
     "name": "stdout",
     "output_type": "stream",
     "text": [
      "Fitting 5 folds for each of 18 candidates, totalling 90 fits\n"
     ]
    },
    {
     "name": "stderr",
     "output_type": "stream",
     "text": [
      "[Parallel(n_jobs=1)]: Done  90 out of  90 | elapsed:    6.0s finished\n",
      "[Parallel(n_jobs=1)]: Using backend SequentialBackend with 1 concurrent workers.\n"
     ]
    },
    {
     "name": "stdout",
     "output_type": "stream",
     "text": [
      "Fitting 5 folds for each of 18 candidates, totalling 90 fits\n"
     ]
    },
    {
     "name": "stderr",
     "output_type": "stream",
     "text": [
      "[Parallel(n_jobs=1)]: Done  90 out of  90 | elapsed:    5.9s finished\n",
      "[Parallel(n_jobs=1)]: Using backend SequentialBackend with 1 concurrent workers.\n"
     ]
    },
    {
     "name": "stdout",
     "output_type": "stream",
     "text": [
      "Fitting 5 folds for each of 18 candidates, totalling 90 fits\n"
     ]
    },
    {
     "name": "stderr",
     "output_type": "stream",
     "text": [
      "[Parallel(n_jobs=1)]: Done  90 out of  90 | elapsed:    6.3s finished\n",
      "[Parallel(n_jobs=1)]: Using backend SequentialBackend with 1 concurrent workers.\n"
     ]
    },
    {
     "name": "stdout",
     "output_type": "stream",
     "text": [
      "################################################################################\n",
      "Fitting XGBoost for: geo8 (Sub-Saharan Africa)\n",
      "################################################################################\n",
      "Fitting 5 folds for each of 18 candidates, totalling 90 fits\n"
     ]
    },
    {
     "name": "stderr",
     "output_type": "stream",
     "text": [
      "[Parallel(n_jobs=1)]: Done  90 out of  90 | elapsed:    8.4s finished\n",
      "[Parallel(n_jobs=1)]: Using backend SequentialBackend with 1 concurrent workers.\n"
     ]
    },
    {
     "name": "stdout",
     "output_type": "stream",
     "text": [
      "Fitting 5 folds for each of 18 candidates, totalling 90 fits\n"
     ]
    },
    {
     "name": "stderr",
     "output_type": "stream",
     "text": [
      "[Parallel(n_jobs=1)]: Done  90 out of  90 | elapsed:   10.3s finished\n",
      "[Parallel(n_jobs=1)]: Using backend SequentialBackend with 1 concurrent workers.\n"
     ]
    },
    {
     "name": "stdout",
     "output_type": "stream",
     "text": [
      "Fitting 5 folds for each of 18 candidates, totalling 90 fits\n"
     ]
    },
    {
     "name": "stderr",
     "output_type": "stream",
     "text": [
      "[Parallel(n_jobs=1)]: Done  90 out of  90 | elapsed:   12.3s finished\n",
      "[Parallel(n_jobs=1)]: Using backend SequentialBackend with 1 concurrent workers.\n"
     ]
    },
    {
     "name": "stdout",
     "output_type": "stream",
     "text": [
      "Fitting 5 folds for each of 18 candidates, totalling 90 fits\n"
     ]
    },
    {
     "name": "stderr",
     "output_type": "stream",
     "text": [
      "[Parallel(n_jobs=1)]: Done  90 out of  90 | elapsed:   16.1s finished\n",
      "[Parallel(n_jobs=1)]: Using backend SequentialBackend with 1 concurrent workers.\n"
     ]
    },
    {
     "name": "stdout",
     "output_type": "stream",
     "text": [
      "Fitting 5 folds for each of 18 candidates, totalling 90 fits\n"
     ]
    },
    {
     "name": "stderr",
     "output_type": "stream",
     "text": [
      "[Parallel(n_jobs=1)]: Done  90 out of  90 | elapsed:    9.1s finished\n"
     ]
    },
    {
     "name": "stdout",
     "output_type": "stream",
     "text": [
      "Fitting 5 folds for each of 18 candidates, totalling 90 fits\n"
     ]
    },
    {
     "name": "stderr",
     "output_type": "stream",
     "text": [
      "[Parallel(n_jobs=1)]: Using backend SequentialBackend with 1 concurrent workers.\n",
      "[Parallel(n_jobs=1)]: Done  90 out of  90 | elapsed:    7.9s finished\n",
      "[Parallel(n_jobs=1)]: Using backend SequentialBackend with 1 concurrent workers.\n"
     ]
    },
    {
     "name": "stdout",
     "output_type": "stream",
     "text": [
      "Fitting 5 folds for each of 18 candidates, totalling 90 fits\n"
     ]
    },
    {
     "name": "stderr",
     "output_type": "stream",
     "text": [
      "[Parallel(n_jobs=1)]: Done  90 out of  90 | elapsed:    8.3s finished\n",
      "[Parallel(n_jobs=1)]: Using backend SequentialBackend with 1 concurrent workers.\n"
     ]
    },
    {
     "name": "stdout",
     "output_type": "stream",
     "text": [
      "Fitting 5 folds for each of 18 candidates, totalling 90 fits\n"
     ]
    },
    {
     "name": "stderr",
     "output_type": "stream",
     "text": [
      "[Parallel(n_jobs=1)]: Done  90 out of  90 | elapsed:    8.7s finished\n",
      "[Parallel(n_jobs=1)]: Using backend SequentialBackend with 1 concurrent workers.\n"
     ]
    },
    {
     "name": "stdout",
     "output_type": "stream",
     "text": [
      "Fitting 5 folds for each of 18 candidates, totalling 90 fits\n"
     ]
    },
    {
     "name": "stderr",
     "output_type": "stream",
     "text": [
      "[Parallel(n_jobs=1)]: Done  90 out of  90 | elapsed:    7.9s finished\n",
      "[Parallel(n_jobs=1)]: Using backend SequentialBackend with 1 concurrent workers.\n"
     ]
    },
    {
     "name": "stdout",
     "output_type": "stream",
     "text": [
      "Fitting 5 folds for each of 18 candidates, totalling 90 fits\n"
     ]
    },
    {
     "name": "stderr",
     "output_type": "stream",
     "text": [
      "[Parallel(n_jobs=1)]: Done  90 out of  90 | elapsed:    8.8s finished\n"
     ]
    }
   ],
   "source": [
    "geo_dfs = []\n",
    "\n",
    "geo_grids = []\n",
    "\n",
    "comparison_data = {}\n",
    "grid_data = {}\n",
    "\n",
    "n_trials = 10\n",
    "\n",
    "for geo in geo_cols:\n",
    "    if geo == 'geo1':\n",
    "        continue\n",
    "    \n",
    "    print(''.join(80*['#']))\n",
    "    print(f'Fitting XGBoost for: {geo} ({mapping[geo].split(\"Region: \")[1]})') \n",
    "    print(''.join(80*['#']))\n",
    "    \n",
    "    geo_df = df[df.loc[:,geo] == 1]\n",
    "    \n",
    "    X = geo_df.drop(['warstds', 'year', 'cowcode', 'geo'] + geo_cols, axis=1).values\n",
    "    \n",
    "    y = geo_df.loc[:,'warstds']\n",
    "    \n",
    "    pr_aucs = np.zeros(n_trials)\n",
    "    roc_aucs = np.zeros(n_trials)\n",
    "    f1s = np.zeros(n_trials)\n",
    "    \n",
    "    for i in range(n_trials):\n",
    "        _, _, pr_auc, roc_auc, f1, grid = fit_predict(X, y, xgb, params_xgb, \n",
    "                                                      n_splits=5, test_size=0.15,\n",
    "                                                      seed=seed+i, plotting=False)\n",
    "    \n",
    "        pr_aucs[i] = pr_auc\n",
    "        roc_aucs[i] = roc_auc\n",
    "        f1s[i] = f1\n",
    "    \n",
    "    comparison_data[geo] = {'PR': pr_aucs.mean(), 'ROC': roc_aucs.mean(), 'F1': f1s.mean()}\n",
    "    grid_data[geo] = [grid]"
   ]
  },
  {
   "cell_type": "code",
   "execution_count": 78,
   "metadata": {},
   "outputs": [
    {
     "data": {
      "text/html": [
       "<div>\n",
       "<style scoped>\n",
       "    .dataframe tbody tr th:only-of-type {\n",
       "        vertical-align: middle;\n",
       "    }\n",
       "\n",
       "    .dataframe tbody tr th {\n",
       "        vertical-align: top;\n",
       "    }\n",
       "\n",
       "    .dataframe thead th {\n",
       "        text-align: right;\n",
       "    }\n",
       "</style>\n",
       "<table border=\"1\" class=\"dataframe\">\n",
       "  <thead>\n",
       "    <tr style=\"text-align: right;\">\n",
       "      <th></th>\n",
       "      <th>PR</th>\n",
       "      <th>ROC</th>\n",
       "      <th>F1</th>\n",
       "    </tr>\n",
       "  </thead>\n",
       "  <tbody>\n",
       "    <tr>\n",
       "      <th>geo34</th>\n",
       "      <td>0.4376</td>\n",
       "      <td>0.9213</td>\n",
       "      <td>0.3122</td>\n",
       "    </tr>\n",
       "    <tr>\n",
       "      <th>geo8</th>\n",
       "      <td>0.4259</td>\n",
       "      <td>0.9171</td>\n",
       "      <td>0.3816</td>\n",
       "    </tr>\n",
       "    <tr>\n",
       "      <th>geo2</th>\n",
       "      <td>0.3921</td>\n",
       "      <td>0.9469</td>\n",
       "      <td>0.4238</td>\n",
       "    </tr>\n",
       "    <tr>\n",
       "      <th>geo57</th>\n",
       "      <td>0.2939</td>\n",
       "      <td>0.8853</td>\n",
       "      <td>0.2985</td>\n",
       "    </tr>\n",
       "    <tr>\n",
       "      <th>geo69</th>\n",
       "      <td>0.2452</td>\n",
       "      <td>0.8563</td>\n",
       "      <td>0.1656</td>\n",
       "    </tr>\n",
       "  </tbody>\n",
       "</table>\n",
       "</div>"
      ],
      "text/plain": [
       "           PR     ROC      F1\n",
       "geo34  0.4376  0.9213  0.3122\n",
       "geo8   0.4259  0.9171  0.3816\n",
       "geo2   0.3921  0.9469  0.4238\n",
       "geo57  0.2939  0.8853  0.2985\n",
       "geo69  0.2452  0.8563  0.1656"
      ]
     },
     "execution_count": 78,
     "metadata": {},
     "output_type": "execute_result"
    }
   ],
   "source": [
    "pd.Series.from_dict(comparison_data).round(4).transpose().sort_values(by='PR', ascending=False)"
   ]
  },
  {
   "cell_type": "markdown",
   "metadata": {},
   "source": [
    " * After data separation by geographical area, the results datasets are much smaller. As a consequence, the testing sets only contain a handful of positive examples (1 to 5). Thus, we decided to evaluate PR-AUC, ROC-AUC and F1 scores over 5 different train-test splits to minimize \"lucky\" or \"unlucky\" examples in the test sets.\n",
    " \n",
    " * The results for Sub-Saharan Africa, Middle East and North Africa (MENA) and Eastern Europe and Central Asia are somewhat similar to the performance of XGBoost in Step 1 on the whole dataset, especially when looking at ROC-AUC and F1 scores. On the other hand, the PR-AUC scores are slightly lower ($0.45$-$0.5$) than observed in Step 1 ($0.54$).\n",
    " \n",
    " * That said, the classifiers of civil war events in Latin America and South and East Asia and Oceania performed much worse. For the latter, PR-AUC, ROC-AUC and F1 values resemble the ones obtained when training the multi-layer perceptron in Step 1.\n",
    " \n",
    " * Thus, it seems that geographical area separation did not help better classify civil war events. A possible reason for such results would be that the classifiers were trained with less data, and had thus less generalizing abilities. \n",
    "\n",
    "---\n",
    "\n",
    " * While possibly contradicting with the results of Muchlinski et al. [5], who found that the US and Western Europe Dummy was an important feature of their Random Forests, this result seems coherent when looking at the mutual information between the different features and the response variable. Indeed, some geographical dummy variables (e.g., geo2 and geo57) are among the variables with the least mutual information with the response variable, meaning that they contain close to no information about civil war onset."
   ]
  },
  {
   "cell_type": "code",
   "execution_count": 79,
   "metadata": {},
   "outputs": [
    {
     "name": "stdout",
     "output_type": "stream",
     "text": [
      "Columns with 0 mutual information with the civil war onset response variable: \n"
     ]
    },
    {
     "data": {
      "text/plain": [
       "{'demch98': 'Democracy annual change; Polity \\n98',\n",
       " 'polch98': 'Polity annual change; Polity98',\n",
       " 'major': 'Majoritarian system',\n",
       " 'presi': 'Presidential system',\n",
       " 'incumb': 'Consolidation of incumbent \\nadvantage(Przeworski et al., 2000)',\n",
       " 'inst': '0-dict; 1-parliam; 2-mixed dem; 3-\\npres dem (Przeworski et al., 2000)',\n",
       " 'dem': 'Dummy: 1 for democracies and 0 \\nfor autocracies',\n",
       " 'drace': 'Racial component of Ehet',\n",
       " 'geo2': 'Region: Eastern Europe and Central Asia',\n",
       " 'geo57': 'Region: South and East Asia and \\nOceania',\n",
       " 'decade1': 'Dummy : 1960s',\n",
       " 'decade4': 'Dummy : 1990s'}"
      ]
     },
     "execution_count": 79,
     "metadata": {},
     "output_type": "execute_result"
    }
   ],
   "source": [
    "df2 = df.drop(['warstds', 'year', 'cowcode', 'geo'], axis=1)\n",
    "y = df['warstds'].values\n",
    "\n",
    "# Find categorical features\n",
    "mask = find_categorical_features(df2.values)\n",
    "\n",
    "# Calcualte mutual information between features and target variables\n",
    "mi = mutual_info_classif(df2, y, discrete_features=mask.astype(int), random_state=seed)\n",
    "\n",
    "# Identify feature names with no mutual information with the response variable\n",
    "print('Columns with 0 mutual information with the civil war onset response variable: ')\n",
    "{col: mapping[col] for col in df2.columns[np.where(mi == 0)]}"
   ]
  },
  {
   "cell_type": "markdown",
   "metadata": {},
   "source": [
    "## Step 4: Predicting civil war onset as time series forecasting\n",
    "---\n",
    "\n",
    "In this section, we will consider that each country is assigned to a time series of civil war/peace events, and see whether civil war events could be forecast given past data using simple time forecasting models.\n",
    "\n",
    "Two common techniques are usually employed to study time series: recurrent neural networks (RNNs) have become incresingly popular with the deep learning revolution, and have shown tremendous performance in speech recognition or machine translation. However, such neural networks generally require a lot of data to be able to avoid overfitting and output robust predictions.\n",
    "\n",
    "Autoregressive methods and Hidden Markov Models (HMMs) are also popular for analyzing time series data. However, to our best knowledge they all not well suited to forecast rare events such as civil war onset.\n",
    "\n",
    "With that in mind, we decided to (once again) use XGBoost, but this time with time-delayed features. For each country $c$, we aim at predicing civil war onsets at year $t$ $y_{t,c}$ given features from previous years $X_{t-1, c}, X_{t-2, c}, ..., X_{t-N, c}$"
   ]
  },
  {
   "cell_type": "markdown",
   "metadata": {},
   "source": [
    "#### 4.1 Preparing the dataset\n",
    "\n",
    "We splitted the dataset for each country, and created sequences of $N$ years for countries with more than $2N$ years of existence. In this project, we assumed that a delay of $N = 5$ years should be the maximal delay to explain civil war onset at a given year, and explored how XGBoost performed on sequences built with $N = 1, ..., 5$"
   ]
  },
  {
   "cell_type": "code",
   "execution_count": 81,
   "metadata": {},
   "outputs": [],
   "source": [
    "# Group dataframe by country and dispatch groups into list\n",
    "country_groups = df.groupby(by='cowcode')\n",
    "country_dfs = [country_groups.get_group(x) for x in country_groups.groups]\n",
    "\n",
    "# Select countries with at least one civil war event\n",
    "#cw_country_dfs = [x for x in country_dfs if x.warstds.sum() > 0]"
   ]
  },
  {
   "cell_type": "code",
   "execution_count": 184,
   "metadata": {},
   "outputs": [],
   "source": [
    "def create_delayed_features(country_dfs, N):\n",
    "    '''\n",
    "    Create time-delayed feature sequences for each country in the dataset\n",
    "    \n",
    "    country_dfs: list\n",
    "        List of dataframes for each country\n",
    "    \n",
    "    N: int\n",
    "        Time delay in years\n",
    "    '''\n",
    "    \n",
    "    X_seq, y_seq = [], []\n",
    "    for cwcd in country_dfs:\n",
    "        # Sanity check: sort dataframe per ascending year\n",
    "        cwcd = cwcd.sort_values(by='year', axis=0)\n",
    "        \n",
    "        # Identify label and feature matrices\n",
    "        cwcd_Y = cwcd.loc[:,'warstds'] \n",
    "        cwcd = cwcd.drop(['cowcode', 'year', 'warstds', 'geo'], axis=1)\n",
    "        \n",
    "        # If the country is not at least 2N years old, ignore it\n",
    "        # (To have sufficient data points for a given country)\n",
    "        if cwcd.shape[0] <= (N*2):\n",
    "            continue\n",
    "        \n",
    "        # Initialize windowed data\n",
    "        cwcd_X_windowed = np.zeros((cwcd.shape[0]-N, N, cwcd.shape[1]))\n",
    "        cwcd_Y_windowed = np.zeros((cwcd.shape[0]-N,))\n",
    "\n",
    "        for i in range(cwcd.shape[0]-N):\n",
    "            cwcd_X_windowed[i,:,:] = cwcd.iloc[i:i+N,:].values # Get data from previous years\n",
    "            cwcd_Y_windowed[i] = cwcd_Y.iloc[i+N] # Append the label for the next year\n",
    "\n",
    "        X_seq.append(cwcd_X_windowed)\n",
    "        y_seq.append(cwcd_Y_windowed)\n",
    "    \n",
    "    # Concatenate lists into an array\n",
    "    X_seq = np.concatenate(X_seq)\n",
    "    y_seq = np.concatenate(y_seq)\n",
    "    \n",
    "    # Reshape 3D array to 2D\n",
    "    X_seq = X_seq.reshape(X_seq.shape[0], -1)\n",
    "\n",
    "    print(f'Dataset/label dimensions: {X_seq.shape}/{y_seq.shape}')\n",
    "    print(f'Number of positive events: {y_seq.sum()} ({100*y_seq.mean():.2f})%')\n",
    "    \n",
    "    return X_seq, y_seq"
   ]
  },
  {
   "cell_type": "code",
   "execution_count": 185,
   "metadata": {},
   "outputs": [],
   "source": [
    "# Given the dataset is even more imbalanced that before,\n",
    "# we added a fourth possible sampling strategy in XGBoost (ratio 1:15)\n",
    "\n",
    "params_xgb = {'classification__n_estimators': [100],\n",
    "              'classification__max_depth':[3, 6, 9], # Standard = 6, try 50% and 150% of default value\n",
    "              'classification__subsample': [2/3, 1], # Equivalent to max_samples \n",
    "              'classification__random_state': [seed],\n",
    "              'classification__booster': ['gbtree'], # Standard booster\n",
    "              'sampling__sampling_strategy': [0.0625, 0.125, 0.25, 0.5], # Different downsampling strategies\n",
    "              'sampling__random_state': [seed]\n",
    "             }"
   ]
  },
  {
   "cell_type": "code",
   "execution_count": 188,
   "metadata": {},
   "outputs": [
    {
     "name": "stdout",
     "output_type": "stream",
     "text": [
      "Dataset/label dimensions: (6962, 88)/(6962,)\n",
      "Number of positive events: 104.0 (1.49)%\n",
      "Fitting 10 folds for each of 24 candidates, totalling 240 fits\n"
     ]
    },
    {
     "name": "stderr",
     "output_type": "stream",
     "text": [
      "[Parallel(n_jobs=1)]: Using backend SequentialBackend with 1 concurrent workers.\n",
      "[Parallel(n_jobs=1)]: Done 240 out of 240 | elapsed:  1.3min finished\n"
     ]
    },
    {
     "data": {
      "image/png": "[encoded data removed]",
      "text/plain": [
       "<Figure size 216x216 with 1 Axes>"
      ]
     },
     "metadata": {
      "needs_background": "light"
     },
     "output_type": "display_data"
    },
    {
     "name": "stdout",
     "output_type": "stream",
     "text": [
      "Dataset/label dimensions: (6784, 176)/(6784,)\n",
      "Number of positive events: 98.0 (1.44)%\n",
      "Fitting 10 folds for each of 24 candidates, totalling 240 fits\n"
     ]
    },
    {
     "name": "stderr",
     "output_type": "stream",
     "text": [
      "[Parallel(n_jobs=1)]: Using backend SequentialBackend with 1 concurrent workers.\n",
      "[Parallel(n_jobs=1)]: Done 240 out of 240 | elapsed:  2.2min finished\n"
     ]
    },
    {
     "data": {
      "image/png": "[encoded data removed]",
      "text/plain": [
       "<Figure size 216x216 with 1 Axes>"
      ]
     },
     "metadata": {
      "needs_background": "light"
     },
     "output_type": "display_data"
    },
    {
     "name": "stdout",
     "output_type": "stream",
     "text": [
      "Dataset/label dimensions: (6603, 264)/(6603,)\n",
      "Number of positive events: 95.0 (1.44)%\n",
      "Fitting 10 folds for each of 24 candidates, totalling 240 fits\n"
     ]
    },
    {
     "name": "stderr",
     "output_type": "stream",
     "text": [
      "[Parallel(n_jobs=1)]: Using backend SequentialBackend with 1 concurrent workers.\n",
      "[Parallel(n_jobs=1)]: Done 240 out of 240 | elapsed:  3.6min finished\n"
     ]
    },
    {
     "data": {
      "image/png": "[encoded data removed]",
      "text/plain": [
       "<Figure size 216x216 with 1 Axes>"
      ]
     },
     "metadata": {
      "needs_background": "light"
     },
     "output_type": "display_data"
    },
    {
     "name": "stdout",
     "output_type": "stream",
     "text": [
      "Dataset/label dimensions: (6410, 352)/(6410,)\n",
      "Number of positive events: 90.0 (1.40)%\n",
      "Fitting 10 folds for each of 24 candidates, totalling 240 fits\n"
     ]
    },
    {
     "name": "stderr",
     "output_type": "stream",
     "text": [
      "[Parallel(n_jobs=1)]: Using backend SequentialBackend with 1 concurrent workers.\n",
      "[Parallel(n_jobs=1)]: Done 240 out of 240 | elapsed:  5.0min finished\n"
     ]
    },
    {
     "data": {
      "image/png": "[encoded data removed]",
      "text/plain": [
       "<Figure size 216x216 with 1 Axes>"
      ]
     },
     "metadata": {
      "needs_background": "light"
     },
     "output_type": "display_data"
    },
    {
     "name": "stdout",
     "output_type": "stream",
     "text": [
      "Dataset/label dimensions: (6143, 440)/(6143,)\n",
      "Number of positive events: 84.0 (1.37)%\n",
      "Fitting 10 folds for each of 24 candidates, totalling 240 fits\n"
     ]
    },
    {
     "name": "stderr",
     "output_type": "stream",
     "text": [
      "[Parallel(n_jobs=1)]: Using backend SequentialBackend with 1 concurrent workers.\n",
      "[Parallel(n_jobs=1)]: Done 240 out of 240 | elapsed:  4.6min finished\n"
     ]
    },
    {
     "data": {
      "image/png": "[encoded data removed]",
      "text/plain": [
       "<Figure size 216x216 with 1 Axes>"
      ]
     },
     "metadata": {
      "needs_background": "light"
     },
     "output_type": "display_data"
    }
   ],
   "source": [
    "comparison_data = {}\n",
    "\n",
    "for N in range(1,6):\n",
    "    X_seq, y_seq = create_delayed_features(country_dfs, N)\n",
    "    \n",
    "    p_xgb, r_xgb, pr_auc_xgb, roc_auc_xgb, f1_xgb, grid_xgb = fit_predict(X_seq, y_seq, xgb, params_xgb, test_size=0.15)\n",
    "    \n",
    "    comparison_data[str(N)] = {'PR': pr_auc_xgb, 'ROC': roc_auc_xgb, 'F1': f1_xgb}"
   ]
  },
  {
   "cell_type": "code",
   "execution_count": 242,
   "metadata": {},
   "outputs": [
    {
     "data": {
      "image/png": "[encoded data removed]",
      "text/plain": [
       "<Figure size 432x288 with 1 Axes>"
      ]
     },
     "metadata": {
      "needs_background": "light"
     },
     "output_type": "display_data"
    },
    {
     "data": {
      "image/png": "[encoded data removed]",
      "text/plain": [
       "<Figure size 432x288 with 1 Axes>"
      ]
     },
     "metadata": {
      "needs_background": "light"
     },
     "output_type": "display_data"
    },
    {
     "data": {
      "image/png": "[encoded data removed]",
      "text/plain": [
       "<Figure size 432x288 with 1 Axes>"
      ]
     },
     "metadata": {
      "needs_background": "light"
     },
     "output_type": "display_data"
    }
   ],
   "source": [
    "comparison_data_flipped = dict(pd.DataFrame.from_dict(comparison_data).transpose())\n",
    "\n",
    "for metric in comparison_data_flipped.keys():\n",
    "    bar = sns.barplot(y=comparison_data_flipped[metric], x=list(range(1,6)), palette=palette)\n",
    "    for patch in bar.patches:\n",
    "        bar.annotate(f'{patch.get_height():.2f}', \n",
    "                    (patch.get_x() + patch.get_width() / 2., patch.get_height()), \n",
    "                    ha = 'center',\n",
    "                    xytext = (0, 10), \n",
    "                    textcoords = 'offset points',\n",
    "                    fontweight='bold')\n",
    "\n",
    "    plt.ylim([0,1])\n",
    "    plt.xlabel('Delay (years)')\n",
    "    plt.title(metric + f' score with time-delayed features, N_years = {\",\".join(map(str,range(1,6)))}')\n",
    "    plt.show()"
   ]
  },
  {
   "cell_type": "markdown",
   "metadata": {},
   "source": [
    "Looking at the different metrics, it seems that model robustness decreases with the length of the sequences, i.e., with the number of years considered to build time-delayed features. When looking at imbalance-robust metrics (PR-AUC and F1 scores), the best model seems to be obtained with $N = 1$, that is only considering the data from the previous year. In this configuration, $5$ out of $15$ civil war events could be predicted given features from the previous year. A possible explanation for such a result is that most variables will tend to remain similar over a year, while greater change can be expected when considering more ancient data.\n",
    "\n",
    "Overall, these results remain arguably worse than during the two previous steps. That said, this task is also conceptually harder. Indeed, many civil war events are not continuous process, but rather tend to spark spontaneously. For instance, the Arab Spring suddenly triggered several uprisings in Syria, Libya and Egypt in 2011 [10]. \n",
    "\n",
    "To our best knowledge, very little research has been done on time-series forecasting of civil war events. With that in mind, we think that further research for this task should be performed with larger datsets, if possible, (e.g., with country-months instead of country-years) to be able to exploit the power of recurrent neural networks."
   ]
  },
  {
   "cell_type": "markdown",
   "metadata": {},
   "source": [
    "### References\n",
    "\n",
    "[1] Pettersson, T., & Öberg, M. (2020). Organized violence, 1989–2019. _Journal of peace research_, 57(4), 597-613.\n",
    "\n",
    "[2] Fearon, J. D., & Laitin, D. D. (2003). Ethnicity, insurgency, and civil war. _American political science review_, 75-90.\n",
    "\n",
    "[3] Collier, P., & Hoeffler, A. (2004). Greed and grievance in civil war. _Oxford economic papers_, 56(4), 563-595.\n",
    "\n",
    "[4] Hegre, H., & Sambanis, N. (2006). Sensitivity analysis of empirical results on civil war onset. _Journal of conflict resolution_, 50(4), 508-535.\n",
    "\n",
    "[5] Muchlinski, D., Siroky, D., He, J., & Kocher, M. (2016). Comparing random forest with logistic regression for predicting class-imbalanced civil war onset data. _Political Analysis_, 87-103.\n",
    "\n",
    "[6] Davis, J., & Goadrich, M. (2006). The relationship between Precision-Recall and ROC curves. In _Proceedings of the 23rd international conference on Machine learning_ (pp. 233-240).\n",
    "\n",
    "[7] Wang, Y. (2019). Comparing random forest with logistic regression for predicting class-imbalanced civil war onset data: A comment. _Political Analysis_, 27(1), 107-110.\n",
    "\n",
    "[8] Chen, T., & He, T. (2015). Higgs boson discovery with boosted trees. In _NIPS 2014 workshop on high-energy physics and machine learning_ (pp. 69-80).\n",
    "\n",
    "[9] Ismailov, A. (2019). Humor Analysis Based on Human Annotation Challenge at IberLEF 2019: First-place Solution. In _IberLEF@ SEPLN_ (pp. 160-164).\n",
    "\n",
    "[10] Henry, C., & Jang, J. H. (2013). _The Arab Spring: Will it Lead to Democratic Transitions?_. Springer."
   ]
  }
 ],
 "metadata": {
  "kernelspec": {
   "display_name": "Python 3",
   "language": "python",
   "name": "python3"
  },
  "language_info": {
   "codemirror_mode": {
    "name": "ipython",
    "version": 3
   },
   "file_extension": ".py",
   "mimetype": "text/x-python",
   "name": "python",
   "nbconvert_exporter": "python",
   "pygments_lexer": "ipython3",
   "version": "3.7.7"
  }
 },
 "nbformat": 4,
 "nbformat_minor": 4
}
