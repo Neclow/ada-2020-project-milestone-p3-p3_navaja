{
 "cells": [
  {
   "cell_type": "code",
   "execution_count": 1,
   "metadata": {},
   "outputs": [],
   "source": [
    "# Libraries for data wrangling\n",
    "import pandas as pd\n",
    "import numpy as np\n",
    "\n",
    "# Machine learning functions\n",
    "from sklearn.ensemble import RandomForestClassifier\n",
    "from sklearn.neural_network import MLPClassifier\n",
    "from sklearn.model_selection import train_test_split, GridSearchCV\n",
    "from sklearn.preprocessing import StandardScaler\n",
    "from sklearn.metrics import f1_score, roc_auc_score, average_precision_score, precision_recall_curve\n",
    "\n",
    "#import torch\n",
    "#import torch.nn as nn\n",
    "\n",
    "from xgboost import XGBClassifier\n",
    "\n",
    "# Downsampling function from imblearn, a library to manipulate imbalanced datasets\n",
    "from imblearn.over_sampling import SMOTE\n",
    "from imblearn.under_sampling import RandomUnderSampler\n",
    "from imblearn.pipeline import Pipeline\n",
    "\n",
    "# Data visualization functions\n",
    "import matplotlib.pyplot as plt"
   ]
  },
  {
   "cell_type": "markdown",
   "metadata": {},
   "source": [
    "### Define the random seed for the rest of the notebook"
   ]
  },
  {
   "cell_type": "code",
   "execution_count": 2,
   "metadata": {},
   "outputs": [],
   "source": [
    "seed = 20201106 # the deadline date"
   ]
  },
  {
   "cell_type": "markdown",
   "metadata": {},
   "source": [
    "## _Step 1:_ Loading the raw dataset"
   ]
  },
  {
   "cell_type": "code",
   "execution_count": 3,
   "metadata": {},
   "outputs": [
    {
     "name": "stdout",
     "output_type": "stream",
     "text": [
      "Raw data dimensions: (7140, 285)\n"
     ]
    },
    {
     "data": {
      "text/html": [
       "<div>\n",
       "<style scoped>\n",
       "    .dataframe tbody tr th:only-of-type {\n",
       "        vertical-align: middle;\n",
       "    }\n",
       "\n",
       "    .dataframe tbody tr th {\n",
       "        vertical-align: top;\n",
       "    }\n",
       "\n",
       "    .dataframe thead th {\n",
       "        text-align: right;\n",
       "    }\n",
       "</style>\n",
       "<table border=\"1\" class=\"dataframe\">\n",
       "  <thead>\n",
       "    <tr style=\"text-align: right;\">\n",
       "      <th></th>\n",
       "      <th>atwards</th>\n",
       "      <th>X</th>\n",
       "      <th>id</th>\n",
       "      <th>cid</th>\n",
       "      <th>cowcode</th>\n",
       "      <th>year</th>\n",
       "      <th>warstds</th>\n",
       "      <th>ptime</th>\n",
       "      <th>yrint</th>\n",
       "      <th>autonomy</th>\n",
       "      <th>...</th>\n",
       "      <th>decade1</th>\n",
       "      <th>decade2</th>\n",
       "      <th>decade3</th>\n",
       "      <th>decade4</th>\n",
       "      <th>independ</th>\n",
       "      <th>tip</th>\n",
       "      <th>anocracy</th>\n",
       "      <th>proxregc</th>\n",
       "      <th>sxpnew.2</th>\n",
       "      <th>sxpsq.2</th>\n",
       "    </tr>\n",
       "  </thead>\n",
       "  <tbody>\n",
       "    <tr>\n",
       "      <th>1</th>\n",
       "      <td>0</td>\n",
       "      <td>1</td>\n",
       "      <td>1.0</td>\n",
       "      <td>1</td>\n",
       "      <td>700</td>\n",
       "      <td>1945</td>\n",
       "      <td>0</td>\n",
       "      <td>12</td>\n",
       "      <td>0</td>\n",
       "      <td>0.005151</td>\n",
       "      <td>...</td>\n",
       "      <td>0</td>\n",
       "      <td>0</td>\n",
       "      <td>0</td>\n",
       "      <td>0</td>\n",
       "      <td>1</td>\n",
       "      <td>17.0</td>\n",
       "      <td>0</td>\n",
       "      <td>0.143299</td>\n",
       "      <td>0.094095</td>\n",
       "      <td>0.094095</td>\n",
       "    </tr>\n",
       "    <tr>\n",
       "      <th>2</th>\n",
       "      <td>0</td>\n",
       "      <td>2</td>\n",
       "      <td>1.0</td>\n",
       "      <td>1</td>\n",
       "      <td>700</td>\n",
       "      <td>1946</td>\n",
       "      <td>0</td>\n",
       "      <td>24</td>\n",
       "      <td>1</td>\n",
       "      <td>0.000000</td>\n",
       "      <td>...</td>\n",
       "      <td>0</td>\n",
       "      <td>0</td>\n",
       "      <td>0</td>\n",
       "      <td>0</td>\n",
       "      <td>1</td>\n",
       "      <td>18.0</td>\n",
       "      <td>0</td>\n",
       "      <td>1.000000</td>\n",
       "      <td>0.094547</td>\n",
       "      <td>0.094547</td>\n",
       "    </tr>\n",
       "    <tr>\n",
       "      <th>3</th>\n",
       "      <td>0</td>\n",
       "      <td>3</td>\n",
       "      <td>1.0</td>\n",
       "      <td>1</td>\n",
       "      <td>700</td>\n",
       "      <td>1947</td>\n",
       "      <td>0</td>\n",
       "      <td>36</td>\n",
       "      <td>2</td>\n",
       "      <td>0.000000</td>\n",
       "      <td>...</td>\n",
       "      <td>0</td>\n",
       "      <td>0</td>\n",
       "      <td>0</td>\n",
       "      <td>0</td>\n",
       "      <td>1</td>\n",
       "      <td>19.0</td>\n",
       "      <td>0</td>\n",
       "      <td>1.000000</td>\n",
       "      <td>0.095567</td>\n",
       "      <td>0.095567</td>\n",
       "    </tr>\n",
       "    <tr>\n",
       "      <th>4</th>\n",
       "      <td>0</td>\n",
       "      <td>4</td>\n",
       "      <td>1.0</td>\n",
       "      <td>1</td>\n",
       "      <td>700</td>\n",
       "      <td>1948</td>\n",
       "      <td>0</td>\n",
       "      <td>48</td>\n",
       "      <td>3</td>\n",
       "      <td>0.000000</td>\n",
       "      <td>...</td>\n",
       "      <td>0</td>\n",
       "      <td>0</td>\n",
       "      <td>0</td>\n",
       "      <td>0</td>\n",
       "      <td>1</td>\n",
       "      <td>20.0</td>\n",
       "      <td>0</td>\n",
       "      <td>1.000000</td>\n",
       "      <td>0.101303</td>\n",
       "      <td>0.101303</td>\n",
       "    </tr>\n",
       "    <tr>\n",
       "      <th>5</th>\n",
       "      <td>0</td>\n",
       "      <td>5</td>\n",
       "      <td>1.0</td>\n",
       "      <td>1</td>\n",
       "      <td>700</td>\n",
       "      <td>1949</td>\n",
       "      <td>0</td>\n",
       "      <td>60</td>\n",
       "      <td>4</td>\n",
       "      <td>0.000000</td>\n",
       "      <td>...</td>\n",
       "      <td>0</td>\n",
       "      <td>0</td>\n",
       "      <td>0</td>\n",
       "      <td>0</td>\n",
       "      <td>1</td>\n",
       "      <td>21.0</td>\n",
       "      <td>0</td>\n",
       "      <td>1.000000</td>\n",
       "      <td>0.092107</td>\n",
       "      <td>0.092107</td>\n",
       "    </tr>\n",
       "  </tbody>\n",
       "</table>\n",
       "<p>5 rows × 285 columns</p>\n",
       "</div>"
      ],
      "text/plain": [
       "   atwards  X   id  cid  cowcode  year  warstds  ptime  yrint  autonomy  ...  \\\n",
       "1        0  1  1.0    1      700  1945        0     12      0  0.005151  ...   \n",
       "2        0  2  1.0    1      700  1946        0     24      1  0.000000  ...   \n",
       "3        0  3  1.0    1      700  1947        0     36      2  0.000000  ...   \n",
       "4        0  4  1.0    1      700  1948        0     48      3  0.000000  ...   \n",
       "5        0  5  1.0    1      700  1949        0     60      4  0.000000  ...   \n",
       "\n",
       "   decade1  decade2  decade3  decade4  independ   tip  anocracy  proxregc  \\\n",
       "1        0        0        0        0         1  17.0         0  0.143299   \n",
       "2        0        0        0        0         1  18.0         0  1.000000   \n",
       "3        0        0        0        0         1  19.0         0  1.000000   \n",
       "4        0        0        0        0         1  20.0         0  1.000000   \n",
       "5        0        0        0        0         1  21.0         0  1.000000   \n",
       "\n",
       "   sxpnew.2   sxpsq.2  \n",
       "1  0.094095  0.094095  \n",
       "2  0.094547  0.094547  \n",
       "3  0.095567  0.095567  \n",
       "4  0.101303  0.101303  \n",
       "5  0.092107  0.092107  \n",
       "\n",
       "[5 rows x 285 columns]"
      ]
     },
     "execution_count": 3,
     "metadata": {},
     "output_type": "execute_result"
    }
   ],
   "source": [
    "# Load raw data \n",
    "df = pd.read_csv('data/SambnisImp.csv', index_col=0)\n",
    "\n",
    "# Print dimension information about the dataset\n",
    "print(f'Raw data dimensions: {df.shape}')\n",
    "\n",
    "# Print first 5 columns\n",
    "df.head()"
   ]
  },
  {
   "cell_type": "markdown",
   "metadata": {},
   "source": [
    "### Copy the data columns used by Muchlinski et al. (2016)"
   ]
  },
  {
   "cell_type": "code",
   "execution_count": 4,
   "metadata": {},
   "outputs": [],
   "source": [
    "# Columns used in the Random Forests model from Muchlinski et al. (2016)\n",
    "\n",
    "rf_cols = [\"ager\", \"agexp\", \"anoc\", \"army85\", \n",
    "           \"autch98\", \"auto4\", \"autonomy\", \"avgnabo\",\n",
    "           \"centpol3\", \"coldwar\", \"decade1\", \"decade2\", \n",
    "           \"decade3\", \"decade4\", \"dem\", \"dem4\",\n",
    "           \"demch98\", \"dlang\", \"drace\", \"drel\", \n",
    "           \"durable\", \"ef\", \"ef2\", \"ehet\", \n",
    "           \"elfo\", \"elfo2\", \"etdo4590\", \"expgdp\", \n",
    "           \"exrec\", \"fedpol3\", \"fuelexp\", \"gdpgrowth\", \n",
    "           \"geo1\", \"geo2\", \"geo34\", \"geo57\",\n",
    "           \"geo69\", \"geo8\", \"illiteracy\", \"incumb\", \n",
    "           \"infant\", \"inst\", \"inst3\", \"life\",\n",
    "           \"lmtnest\", \"major\", \"manuexp\", \"milper\",\n",
    "           \"mirps0\", \"mirps1\", \"mirps2\", \"mirps3\", \n",
    "           \"nat_war\", \"ncontig\", \"nmgdp\", \"nmdp4_alt\",\n",
    "           \"numlang\", \"nwstate\", \"oil\", \"p4mchg\", \n",
    "           \"parcomp\", \"parreg\", \"part\", \"partfree\", \n",
    "           \"plural\", \"plurrel\", \"pol4\", \"pol4m\", \n",
    "           \"pol4sq\", \"polch98\", \"polcomp\", \"popdense\", \n",
    "           \"presi\", \"pri\", \"proxregc\", \"reg\", \n",
    "           \"regd4_alt\", \"relfrac\", \"seceduc\", \"second\",\n",
    "           \"semipol3\", \"sip2\", \"sxpnew\", \"sxpsq\",\n",
    "           \"tnatwar\", \"trade\", \"warhist\", \"xconst\"]"
   ]
  },
  {
   "cell_type": "code",
   "execution_count": 5,
   "metadata": {},
   "outputs": [],
   "source": [
    "def load_data(df, data_cols, label_col='warstds'):\n",
    "    '''\n",
    "    Select columns of interest from raw data\n",
    "    Separate data farme of interest into data matrix and labels\n",
    "    \n",
    "    Parameters\n",
    "    ----------\n",
    "    df: pandas.DataFrame\n",
    "        Raw dataframe\n",
    "    data_cols: list\n",
    "        List of data columns to select the build the data matrix\n",
    "    label_col: str\n",
    "        Name of label column (ground truth)\n",
    "    \n",
    "    Returns\n",
    "    ----------\n",
    "    X: ndarray\n",
    "        The data matrix with the regressors\n",
    "    y: ndarray\n",
    "        A vector with the ground truth labels\n",
    "    '''\n",
    "    \n",
    "    X = df.loc[:, data_cols].to_numpy()\n",
    "    y = df.loc[:, label_col].to_numpy()\n",
    "    \n",
    "    print(f'Shape of dataset: {X.shape}')\n",
    "    \n",
    "    return X, y"
   ]
  },
  {
   "cell_type": "code",
   "execution_count": 6,
   "metadata": {
    "scrolled": true
   },
   "outputs": [
    {
     "name": "stdout",
     "output_type": "stream",
     "text": [
      "Shape of dataset: (7140, 88)\n"
     ]
    }
   ],
   "source": [
    "X, y = load_data(df, rf_cols)"
   ]
  },
  {
   "cell_type": "code",
   "execution_count": 81,
   "metadata": {},
   "outputs": [],
   "source": [
    "params_rf = {'classification__n_estimators': [100],\n",
    "             'classification__max_features': ['auto', 'log2'],\n",
    "             'classification__random_state': [seed],\n",
    "             'classification__max_samples' : [2/3, 1],\n",
    "             'sampling__sampling_strategy': [0.125, 0.25, 0.5],\n",
    "             'sampling__random_state': [seed]\n",
    "            }\n",
    "\n",
    "params_xgb = {'classification__n_estimators': [100],\n",
    "              'classification__max_depth':[3, 6, 9], # Standard = 6, try 50% and 150% of default value\n",
    "              'classification__subsample': [2/3, 1], # Equivalent to max_samples \n",
    "              'classification__random_state': [seed],\n",
    "              'classification__booster': ['gbtree'], # Standard booster\n",
    "              'sampling__sampling_strategy': [0.125, 0.25, 0.5], # Different downsampling strategies (12.5%-25%-50% of war events)\n",
    "              'sampling__random_state': [seed]\n",
    "             }\n",
    "\n",
    "params_nn = {'classification__learning_rate': ['adaptive'],\n",
    "             'classification__alpha': [1e-4, 1e-3, 1e-2],\n",
    "             'classification__hidden_layer_sizes': [(X.shape[1],)*4, (X.shape[1],)*8], \n",
    "             'classification__learning_rate_init': [1e-3],\n",
    "             'classification__random_state': [seed],\n",
    "             'sampling__sampling_strategy': [0.125, 0.25, 0.5],\n",
    "             'sampling__random_state': [seed]\n",
    "            }"
   ]
  },
  {
   "cell_type": "code",
   "execution_count": 69,
   "metadata": {},
   "outputs": [],
   "source": [
    "rf = Pipeline([('sampling', RandomUnderSampler()),\n",
    "               ('classification', RandomForestClassifier())])\n",
    "\n",
    "xgb = Pipeline([('sampling', RandomUnderSampler()),\n",
    "                ('classification', XGBClassifier())])\n",
    "\n",
    "nn = Pipeline([('sampling', RandomUnderSampler()),\n",
    "               ('classification', MLPClassifier())])"
   ]
  },
  {
   "cell_type": "code",
   "execution_count": 76,
   "metadata": {},
   "outputs": [],
   "source": [
    "def fit_predict(X, y, clf, params, \n",
    "                test_size=0.15, n_splits=10, \n",
    "                scoring='average_precision', \n",
    "                seed=seed, normalize=False):\n",
    "    \n",
    "    # Split data\n",
    "    X_train, X_test, y_train, y_test = train_test_split(X, y, test_size=test_size, random_state=seed)\n",
    "    \n",
    "    # Standardize features for MLP\n",
    "    if normalize:\n",
    "        scaler = StandardScaler()\n",
    "        X_train = scaler.fit_transform(X_train)\n",
    "        X_test = scaler.transform(X_test)\n",
    "    \n",
    "    # Apply Grid Search CV\n",
    "    grid = GridSearchCV(clf, params, cv=n_splits, scoring=scoring, verbose=1)\n",
    "    grid.fit(X_train, y_train)\n",
    "    \n",
    "    # Predict probabilities and labels\n",
    "    y_pred_proba = grid.predict_proba(X_test)[:,1]\n",
    "    y_pred = grid.predict(X_test)\n",
    "    \n",
    "    # PR curve is more adapted to imbalanced datasets than ROC-AUC\n",
    "    precision, recall, _ = precision_recall_curve(y_test, y_pred_proba)\n",
    "    \n",
    "    # Get metrics\n",
    "    pr_auc = average_precision_score(y_test, y_pred_proba)\n",
    "    roc_auc = roc_auc_score(y_test, y_pred_proba)\n",
    "    f1 = f1_score(y_test, y_pred)\n",
    "    \n",
    "    return precision, recall, pr_auc, roc_auc, f1"
   ]
  },
  {
   "cell_type": "code",
   "execution_count": 77,
   "metadata": {},
   "outputs": [],
   "source": [
    "comparison_data = {}"
   ]
  },
  {
   "cell_type": "code",
   "execution_count": 78,
   "metadata": {},
   "outputs": [
    {
     "name": "stdout",
     "output_type": "stream",
     "text": [
      "Fitting 10 folds for each of 12 candidates, totalling 120 fits\n"
     ]
    },
    {
     "name": "stderr",
     "output_type": "stream",
     "text": [
      "[Parallel(n_jobs=1)]: Using backend SequentialBackend with 1 concurrent workers.\n",
      "[Parallel(n_jobs=1)]: Done 120 out of 120 | elapsed:   34.9s finished\n"
     ]
    }
   ],
   "source": [
    "p_rf, r_rf, pr_auc_rf, roc_auc_rf, f1_rf = fit_predict(X, y, rf, params_rf)\n",
    "\n",
    "comparison_data['RF'] = {'PR': pr_auc_rf, 'ROC': roc_auc_rf, 'F1': f1_rf}"
   ]
  },
  {
   "cell_type": "code",
   "execution_count": 80,
   "metadata": {},
   "outputs": [
    {
     "name": "stdout",
     "output_type": "stream",
     "text": [
      "Fitting 10 folds for each of 18 candidates, totalling 180 fits\n"
     ]
    },
    {
     "name": "stderr",
     "output_type": "stream",
     "text": [
      "[Parallel(n_jobs=1)]: Using backend SequentialBackend with 1 concurrent workers.\n",
      "[Parallel(n_jobs=1)]: Done 180 out of 180 | elapsed:   42.5s finished\n"
     ]
    }
   ],
   "source": [
    "p_xgb, r_xgb, pr_auc_xgb, roc_auc_xgb, f1_xgb = fit_predict(X, y, xgb, params_xgb)\n",
    "\n",
    "comparison_data['XGB'] = {'PR': pr_auc_xgb, 'ROC': roc_auc_xgb, 'F1': f1_xgb}"
   ]
  },
  {
   "cell_type": "code",
   "execution_count": 82,
   "metadata": {},
   "outputs": [
    {
     "name": "stdout",
     "output_type": "stream",
     "text": [
      "Fitting 10 folds for each of 18 candidates, totalling 180 fits\n"
     ]
    },
    {
     "name": "stderr",
     "output_type": "stream",
     "text": [
      "[Parallel(n_jobs=1)]: Using backend SequentialBackend with 1 concurrent workers.\n",
      "[Parallel(n_jobs=1)]: Done 180 out of 180 | elapsed:  8.4min finished\n"
     ]
    }
   ],
   "source": [
    "p_nn, r_nn, pr_auc_nn, roc_auc_nn, f1_nn = fit_predict(X, y, nn, params_nn, normalize=True)\n",
    "\n",
    "comparison_data['NN'] = {'PR': pr_auc_nn, 'ROC': roc_auc_nn, 'F1': f1_nn}"
   ]
  },
  {
   "cell_type": "code",
   "execution_count": 83,
   "metadata": {},
   "outputs": [
    {
     "data": {
      "text/html": [
       "<div>\n",
       "<style scoped>\n",
       "    .dataframe tbody tr th:only-of-type {\n",
       "        vertical-align: middle;\n",
       "    }\n",
       "\n",
       "    .dataframe tbody tr th {\n",
       "        vertical-align: top;\n",
       "    }\n",
       "\n",
       "    .dataframe thead th {\n",
       "        text-align: right;\n",
       "    }\n",
       "</style>\n",
       "<table border=\"1\" class=\"dataframe\">\n",
       "  <thead>\n",
       "    <tr style=\"text-align: right;\">\n",
       "      <th></th>\n",
       "      <th>RF</th>\n",
       "      <th>XGB</th>\n",
       "      <th>NN</th>\n",
       "    </tr>\n",
       "  </thead>\n",
       "  <tbody>\n",
       "    <tr>\n",
       "      <th>PR</th>\n",
       "      <td>0.3636</td>\n",
       "      <td>0.5164</td>\n",
       "      <td>0.1889</td>\n",
       "    </tr>\n",
       "    <tr>\n",
       "      <th>ROC</th>\n",
       "      <td>0.9332</td>\n",
       "      <td>0.9460</td>\n",
       "      <td>0.8166</td>\n",
       "    </tr>\n",
       "    <tr>\n",
       "      <th>F1</th>\n",
       "      <td>0.4000</td>\n",
       "      <td>0.4308</td>\n",
       "      <td>0.1429</td>\n",
       "    </tr>\n",
       "  </tbody>\n",
       "</table>\n",
       "</div>"
      ],
      "text/plain": [
       "         RF     XGB      NN\n",
       "PR   0.3636  0.5164  0.1889\n",
       "ROC  0.9332  0.9460  0.8166\n",
       "F1   0.4000  0.4308  0.1429"
      ]
     },
     "execution_count": 83,
     "metadata": {},
     "output_type": "execute_result"
    }
   ],
   "source": [
    "pd.DataFrame.from_dict(comparison_data).round(4)"
   ]
  },
  {
   "cell_type": "code",
   "execution_count": 84,
   "metadata": {},
   "outputs": [
    {
     "data": {
      "image/png": "[encoded data removed]",
      "text/plain": [
       "<Figure size 432x288 with 1 Axes>"
      ]
     },
     "metadata": {
      "needs_background": "light"
     },
     "output_type": "display_data"
    }
   ],
   "source": [
    "plt.plot(r_rf, p_rf, 'k--', label=f'Random Forest {pr_auc_rf:.2f}', alpha=0.5)\n",
    "plt.plot(r_xgb, p_xgb, 'k--', label=f'XGBoost {pr_auc_xgb:.2f}')\n",
    "plt.plot(r_nn, p_nn, 'k', label=f'MLP {pr_auc_nn:.2f}', alpha=0.2)\n",
    "plt.xlabel('Recall')\n",
    "plt.ylabel('Precision')\n",
    "plt.legend()\n",
    "plt.show()"
   ]
  },
  {
   "cell_type": "code",
   "execution_count": 38,
   "metadata": {},
   "outputs": [
    {
     "data": {
      "text/plain": [
       "'class MLP(nn.Module):\\n    def __init__(self, n_layers, in_, hidden, out_ = 1):\\n        super(MLP, self).__init__()\\n        \\n        self.n_layers = n_layers\\n        self.in_ = in_\\n        self.hidden = hidden\\n        self.out_ = out_\\n        self.layers = self.create_layers()\\n    \\n    \\n    def create_layers(self):\\n        layers = [nn.Linear(self.in_, self.hidden), nn.ReLU()]\\n        \\n        for i in range(1, self.n_layers-1):\\n            layers.extend([nn.Linear(self.hidden, self.hidden), nn.ReLU()])\\n        \\n        layers.extend([nn.Linear(self.hidden, self.out_), nn.Sigmoid()])\\n        \\n        return nn.Sequential(*layers)                \\n    \\n    def forward(self, x):\\n        x = self.layers(x)\\n        return x'"
      ]
     },
     "execution_count": 38,
     "metadata": {},
     "output_type": "execute_result"
    }
   ],
   "source": [
    "'''class MLP(nn.Module):\n",
    "    def __init__(self, n_layers, in_, hidden, out_ = 1):\n",
    "        super(MLP, self).__init__()\n",
    "        \n",
    "        self.n_layers = n_layers\n",
    "        self.in_ = in_\n",
    "        self.hidden = hidden\n",
    "        self.out_ = out_\n",
    "        self.layers = self.create_layers()\n",
    "    \n",
    "    \n",
    "    def create_layers(self):\n",
    "        layers = [nn.Linear(self.in_, self.hidden), nn.ReLU()]\n",
    "        \n",
    "        for i in range(1, self.n_layers-1):\n",
    "            layers.extend([nn.Linear(self.hidden, self.hidden), nn.ReLU()])\n",
    "        \n",
    "        layers.extend([nn.Linear(self.hidden, self.out_), nn.Sigmoid()])\n",
    "        \n",
    "        return nn.Sequential(*layers)                \n",
    "    \n",
    "    def forward(self, x):\n",
    "        x = self.layers(x)\n",
    "        return x'''"
   ]
  },
  {
   "cell_type": "code",
   "execution_count": 64,
   "metadata": {},
   "outputs": [
    {
     "data": {
      "text/plain": [
       "'from sklearn.metrics import confusion_matrix\\n\\nX_train, X_test, y_train, y_test = train_test_split(X, y, test_size=0.2, random_state=seed)\\n\\nxgb = MLPClassifier(hidden_layer_sizes=(88,88))\\n\\nscaler = StandardScaler()\\n\\nX_train = scaler.fit_transform(X_train)\\nX_test = scaler.transform(X_test)\\n\\nX_train, y_train = SMOTE(sampling_strategy=0.2,random_state=seed).fit_resample(X_train, y_train)\\n\\nxgb.fit(X_train, y_train)\\n\\nfpr, tpr, _ = precision_recall_curve(y_test, xgb.predict_proba(X_test)[:,1])\\n    \\nf1_score(y_test, xgb.predict(X_test)), average_precision_score(y_test, xgb.predict_proba(X_test)[:,1])\\n\\n#confusion_matrix(y_test, xgb.predict(X_test))'"
      ]
     },
     "execution_count": 64,
     "metadata": {},
     "output_type": "execute_result"
    }
   ],
   "source": [
    "'''from sklearn.metrics import confusion_matrix\n",
    "\n",
    "X_train, X_test, y_train, y_test = train_test_split(X, y, test_size=0.2, random_state=seed)\n",
    "\n",
    "xgb = MLPClassifier(hidden_layer_sizes=(88,88))\n",
    "\n",
    "scaler = StandardScaler()\n",
    "\n",
    "X_train = scaler.fit_transform(X_train)\n",
    "X_test = scaler.transform(X_test)\n",
    "\n",
    "X_train, y_train = SMOTE(sampling_strategy=0.2,random_state=seed).fit_resample(X_train, y_train)\n",
    "\n",
    "xgb.fit(X_train, y_train)\n",
    "\n",
    "fpr, tpr, _ = precision_recall_curve(y_test, xgb.predict_proba(X_test)[:,1])\n",
    "    \n",
    "f1_score(y_test, xgb.predict(X_test)), average_precision_score(y_test, xgb.predict_proba(X_test)[:,1])\n",
    "\n",
    "#confusion_matrix(y_test, xgb.predict(X_test))'''"
   ]
  }
 ],
 "metadata": {
  "kernelspec": {
   "display_name": "Python 3",
   "language": "python",
   "name": "python3"
  },
  "language_info": {
   "codemirror_mode": {
    "name": "ipython",
    "version": 3
   },
   "file_extension": ".py",
   "mimetype": "text/x-python",
   "name": "python",
   "nbconvert_exporter": "python",
   "pygments_lexer": "ipython3",
   "version": "3.7.7"
  }
 },
 "nbformat": 4,
 "nbformat_minor": 4
}
