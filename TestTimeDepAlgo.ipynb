{
 "cells": [
  {
   "cell_type": "code",
   "execution_count": 543,
   "metadata": {},
   "outputs": [],
   "source": [
    "import numpy as np\n",
    "import pandas as pd\n",
    "from keras.datasets import imdb\n",
    "from keras.models import Sequential\n",
    "from keras.layers import Dense\n",
    "from keras.layers import LSTM\n",
    "from keras.layers.embeddings import Embedding\n",
    "from keras.preprocessing import sequence\n",
    "import datetime as dt\n",
    "\n",
    "from sklearn.model_selection import train_test_split\n",
    "from sklearn.preprocessing import MinMaxScaler\n",
    "\n",
    "import matplotlib.pyplot as plt\n",
    "from sklearn.metrics import confusion_matrix"
   ]
  },
  {
   "cell_type": "code",
   "execution_count": 468,
   "metadata": {},
   "outputs": [],
   "source": [
    "need_cols = [\"cowcode\",\"year\", \"ager\", \"agexp\", \"anoc\", \"army85\", \n",
    "           \"autch98\", \"auto4\", \"autonomy\", \"avgnabo\",\n",
    "           \"centpol3\", \"coldwar\", \"decade1\", \"decade2\", \n",
    "           \"decade3\", \"decade4\", \"dem\", \"dem4\",\n",
    "           \"demch98\", \"dlang\", \"drace\", \"drel\", \n",
    "           \"durable\", \"ef\", \"ef2\", \"ehet\", \n",
    "           \"elfo\", \"elfo2\", \"etdo4590\", \"expgdp\", \n",
    "           \"exrec\", \"fedpol3\", \"fuelexp\", \"gdpgrowth\", \n",
    "           \"geo1\", \"geo2\", \"geo34\", \"geo57\",\n",
    "           \"geo69\", \"geo8\", \"illiteracy\", \"incumb\", \n",
    "           \"infant\", \"inst\", \"inst3\", \"life\",\n",
    "           \"lmtnest\", \"major\", \"manuexp\", \"milper\",\n",
    "           \"mirps0\", \"mirps1\", \"mirps2\", \"mirps3\", \n",
    "           \"nat_war\", \"ncontig\", \"nmgdp\", \"nmdp4_alt\",\n",
    "           \"numlang\", \"nwstate\", \"oil\", \"p4mchg\", \n",
    "           \"parcomp\", \"parreg\", \"part\", \"partfree\", \n",
    "           \"plural\", \"plurrel\", \"pol4\", \"pol4m\", \n",
    "           \"pol4sq\", \"polch98\", \"polcomp\", \"popdense\", \n",
    "           \"presi\", \"pri\", \"proxregc\", \"reg\", \n",
    "           \"regd4_alt\", \"relfrac\", \"seceduc\", \"second\",\n",
    "           \"semipol3\", \"sip2\", \"sxpnew\", \"sxpsq\",\n",
    "           \"tnatwar\", \"trade\", \"warhist\", \"xconst\", 'warstds']"
   ]
  },
  {
   "cell_type": "code",
   "execution_count": 469,
   "metadata": {},
   "outputs": [],
   "source": [
    "seed = 20201106 # the deadline date"
   ]
  },
  {
   "cell_type": "code",
   "execution_count": 470,
   "metadata": {
    "scrolled": true
   },
   "outputs": [
    {
     "name": "stdout",
     "output_type": "stream",
     "text": [
      "Raw data dimensions: (7140, 91)\n"
     ]
    },
    {
     "data": {
      "text/html": [
       "<div>\n",
       "<style scoped>\n",
       "    .dataframe tbody tr th:only-of-type {\n",
       "        vertical-align: middle;\n",
       "    }\n",
       "\n",
       "    .dataframe tbody tr th {\n",
       "        vertical-align: top;\n",
       "    }\n",
       "\n",
       "    .dataframe thead th {\n",
       "        text-align: right;\n",
       "    }\n",
       "</style>\n",
       "<table border=\"1\" class=\"dataframe\">\n",
       "  <thead>\n",
       "    <tr style=\"text-align: right;\">\n",
       "      <th></th>\n",
       "      <th>cowcode</th>\n",
       "      <th>year</th>\n",
       "      <th>warstds</th>\n",
       "      <th>autonomy</th>\n",
       "      <th>popdense</th>\n",
       "      <th>army85</th>\n",
       "      <th>milper</th>\n",
       "      <th>trade</th>\n",
       "      <th>nmgdp</th>\n",
       "      <th>autch98</th>\n",
       "      <th>...</th>\n",
       "      <th>mirps1</th>\n",
       "      <th>mirps2</th>\n",
       "      <th>mirps3</th>\n",
       "      <th>sxpsq</th>\n",
       "      <th>pol4sq</th>\n",
       "      <th>decade1</th>\n",
       "      <th>decade2</th>\n",
       "      <th>decade3</th>\n",
       "      <th>decade4</th>\n",
       "      <th>proxregc</th>\n",
       "    </tr>\n",
       "  </thead>\n",
       "  <tbody>\n",
       "    <tr>\n",
       "      <th>0</th>\n",
       "      <td>700</td>\n",
       "      <td>1945</td>\n",
       "      <td>0</td>\n",
       "      <td>0.005151</td>\n",
       "      <td>118.554791</td>\n",
       "      <td>129472.9042</td>\n",
       "      <td>121.087366</td>\n",
       "      <td>72.881375</td>\n",
       "      <td>4508.131692</td>\n",
       "      <td>0</td>\n",
       "      <td>...</td>\n",
       "      <td>0.16935</td>\n",
       "      <td>0.313143</td>\n",
       "      <td>0.373714</td>\n",
       "      <td>0.052989</td>\n",
       "      <td>61.493014</td>\n",
       "      <td>0</td>\n",
       "      <td>0</td>\n",
       "      <td>0</td>\n",
       "      <td>0</td>\n",
       "      <td>0.143299</td>\n",
       "    </tr>\n",
       "    <tr>\n",
       "      <th>1</th>\n",
       "      <td>700</td>\n",
       "      <td>1946</td>\n",
       "      <td>0</td>\n",
       "      <td>0.000000</td>\n",
       "      <td>117.756342</td>\n",
       "      <td>129413.0225</td>\n",
       "      <td>121.885359</td>\n",
       "      <td>72.900089</td>\n",
       "      <td>4491.340308</td>\n",
       "      <td>0</td>\n",
       "      <td>...</td>\n",
       "      <td>0.00000</td>\n",
       "      <td>1.000000</td>\n",
       "      <td>0.000000</td>\n",
       "      <td>0.052663</td>\n",
       "      <td>100.000000</td>\n",
       "      <td>0</td>\n",
       "      <td>0</td>\n",
       "      <td>0</td>\n",
       "      <td>0</td>\n",
       "      <td>1.000000</td>\n",
       "    </tr>\n",
       "    <tr>\n",
       "      <th>2</th>\n",
       "      <td>700</td>\n",
       "      <td>1947</td>\n",
       "      <td>0</td>\n",
       "      <td>0.000000</td>\n",
       "      <td>118.280656</td>\n",
       "      <td>130431.0145</td>\n",
       "      <td>122.780608</td>\n",
       "      <td>72.962880</td>\n",
       "      <td>4484.267686</td>\n",
       "      <td>0</td>\n",
       "      <td>...</td>\n",
       "      <td>0.00000</td>\n",
       "      <td>1.000000</td>\n",
       "      <td>0.000000</td>\n",
       "      <td>0.052891</td>\n",
       "      <td>100.000000</td>\n",
       "      <td>0</td>\n",
       "      <td>0</td>\n",
       "      <td>0</td>\n",
       "      <td>0</td>\n",
       "      <td>1.000000</td>\n",
       "    </tr>\n",
       "    <tr>\n",
       "      <th>3</th>\n",
       "      <td>700</td>\n",
       "      <td>1948</td>\n",
       "      <td>0</td>\n",
       "      <td>0.000000</td>\n",
       "      <td>118.325869</td>\n",
       "      <td>126781.6866</td>\n",
       "      <td>118.256427</td>\n",
       "      <td>73.102449</td>\n",
       "      <td>4474.082672</td>\n",
       "      <td>0</td>\n",
       "      <td>...</td>\n",
       "      <td>0.00000</td>\n",
       "      <td>1.000000</td>\n",
       "      <td>0.000000</td>\n",
       "      <td>0.052902</td>\n",
       "      <td>100.000000</td>\n",
       "      <td>0</td>\n",
       "      <td>0</td>\n",
       "      <td>0</td>\n",
       "      <td>0</td>\n",
       "      <td>1.000000</td>\n",
       "    </tr>\n",
       "    <tr>\n",
       "      <th>4</th>\n",
       "      <td>700</td>\n",
       "      <td>1949</td>\n",
       "      <td>0</td>\n",
       "      <td>0.000000</td>\n",
       "      <td>118.312296</td>\n",
       "      <td>130979.2470</td>\n",
       "      <td>122.245074</td>\n",
       "      <td>72.850389</td>\n",
       "      <td>4497.299503</td>\n",
       "      <td>0</td>\n",
       "      <td>...</td>\n",
       "      <td>0.00000</td>\n",
       "      <td>1.000000</td>\n",
       "      <td>0.000000</td>\n",
       "      <td>0.052706</td>\n",
       "      <td>100.000000</td>\n",
       "      <td>0</td>\n",
       "      <td>0</td>\n",
       "      <td>0</td>\n",
       "      <td>0</td>\n",
       "      <td>1.000000</td>\n",
       "    </tr>\n",
       "  </tbody>\n",
       "</table>\n",
       "<p>5 rows × 91 columns</p>\n",
       "</div>"
      ],
      "text/plain": [
       "   cowcode  year  warstds  autonomy    popdense       army85      milper  \\\n",
       "0      700  1945        0  0.005151  118.554791  129472.9042  121.087366   \n",
       "1      700  1946        0  0.000000  117.756342  129413.0225  121.885359   \n",
       "2      700  1947        0  0.000000  118.280656  130431.0145  122.780608   \n",
       "3      700  1948        0  0.000000  118.325869  126781.6866  118.256427   \n",
       "4      700  1949        0  0.000000  118.312296  130979.2470  122.245074   \n",
       "\n",
       "       trade        nmgdp  autch98  ...   mirps1    mirps2    mirps3  \\\n",
       "0  72.881375  4508.131692        0  ...  0.16935  0.313143  0.373714   \n",
       "1  72.900089  4491.340308        0  ...  0.00000  1.000000  0.000000   \n",
       "2  72.962880  4484.267686        0  ...  0.00000  1.000000  0.000000   \n",
       "3  73.102449  4474.082672        0  ...  0.00000  1.000000  0.000000   \n",
       "4  72.850389  4497.299503        0  ...  0.00000  1.000000  0.000000   \n",
       "\n",
       "      sxpsq      pol4sq  decade1  decade2  decade3  decade4  proxregc  \n",
       "0  0.052989   61.493014        0        0        0        0  0.143299  \n",
       "1  0.052663  100.000000        0        0        0        0  1.000000  \n",
       "2  0.052891  100.000000        0        0        0        0  1.000000  \n",
       "3  0.052902  100.000000        0        0        0        0  1.000000  \n",
       "4  0.052706  100.000000        0        0        0        0  1.000000  \n",
       "\n",
       "[5 rows x 91 columns]"
      ]
     },
     "execution_count": 470,
     "metadata": {},
     "output_type": "execute_result"
    }
   ],
   "source": [
    "# Load raw data \n",
    "df = pd.read_csv('data/SambnisImp.csv', usecols = need_cols )\n",
    "\n",
    "# Print dimension information about the dataset\n",
    "print(f'Raw data dimensions: {df.shape}')\n",
    "\n",
    "# Print first 5 columns\n",
    "df.head()"
   ]
  },
  {
   "cell_type": "code",
   "execution_count": 471,
   "metadata": {},
   "outputs": [],
   "source": [
    "df[\"year\"] = pd.to_datetime(df[\"year\"], format=\"%Y\")\n",
    "df = df.set_index(['cowcode', 'year'])"
   ]
  },
  {
   "cell_type": "code",
   "execution_count": 547,
   "metadata": {},
   "outputs": [
    {
     "name": "stdout",
     "output_type": "stream",
     "text": [
      "(5219, 10, 88) (5219,)\n"
     ]
    }
   ],
   "source": [
    "serial_len = 10\n",
    "X = []\n",
    "y = []\n",
    "for name, group in df.groupby(level='cowcode'):\n",
    "    group = group.reset_index(level='cowcode', drop=True)\n",
    "    for i in range(len(group)-serial_len-1):\n",
    "        y.append((group.iloc[i+serial_len+1,:])[\"warstds\"])\n",
    "        X.append(group.iloc[i:i+serial_len].drop(\"warstds\", axis=1).values)\n",
    "print(np.shape(X), np.shape(y))"
   ]
  },
  {
   "cell_type": "code",
   "execution_count": 548,
   "metadata": {},
   "outputs": [],
   "source": [
    "X_train, X_test, y_train, y_test = train_test_split(np.array(X), np.array(y), test_size=0.3, random_state=42)"
   ]
  },
  {
   "cell_type": "code",
   "execution_count": 549,
   "metadata": {},
   "outputs": [
    {
     "name": "stdout",
     "output_type": "stream",
     "text": [
      "(3653, 10, 88) (1566, 10, 88) (3653,) (1566,)\n"
     ]
    }
   ],
   "source": [
    "print(np.shape(X_train), np.shape(X_test), np.shape(y_train), np.shape(y_test))"
   ]
  },
  {
   "cell_type": "code",
   "execution_count": 550,
   "metadata": {},
   "outputs": [],
   "source": [
    "scalers = {}\n",
    "X_trainsc = np.zeros_like(X_train)\n",
    "X_testsc = np.zeros_like(X_test)\n",
    "for i in range(X_train.shape[1]):\n",
    "    scalers[i] = MinMaxScaler()\n",
    "    X_trainsc[:, i, :] = scalers[i].fit_transform(X_train[:, i, :]) \n",
    "\n",
    "for i in range(X_test.shape[1]):\n",
    "    X_testsc[:, i, :] = scalers[i].transform(X_test[:, i, :]) "
   ]
  },
  {
   "cell_type": "code",
   "execution_count": 551,
   "metadata": {},
   "outputs": [
    {
     "name": "stdout",
     "output_type": "stream",
     "text": [
      "(array([0., 1.]), array([3611,   42], dtype=int64))\n"
     ]
    }
   ],
   "source": [
    "print(np.unique(y_train,return_counts=True))"
   ]
  },
  {
   "cell_type": "code",
   "execution_count": null,
   "metadata": {},
   "outputs": [
    {
     "name": "stdout",
     "output_type": "stream",
     "text": [
      "Model: \"sequential_26\"\n",
      "_________________________________________________________________\n",
      "Layer (type)                 Output Shape              Param #   \n",
      "=================================================================\n",
      "lstm_26 (LSTM)               (None, 20)                8720      \n",
      "_________________________________________________________________\n",
      "dense_26 (Dense)             (None, 1)                 21        \n",
      "=================================================================\n",
      "Total params: 8,741\n",
      "Trainable params: 8,741\n",
      "Non-trainable params: 0\n",
      "_________________________________________________________________\n",
      "None\n",
      "Epoch 1/30\n",
      "4/4 - 1s - loss: 1.1263 - val_loss: 0.5888\n",
      "Epoch 2/30\n",
      "4/4 - 0s - loss: 1.0431 - val_loss: 0.4779\n",
      "Epoch 3/30\n",
      "4/4 - 0s - loss: 0.9967 - val_loss: 0.4204\n",
      "Epoch 4/30\n",
      "4/4 - 0s - loss: 0.9663 - val_loss: 0.3993\n",
      "Epoch 5/30\n",
      "4/4 - 0s - loss: 0.9404 - val_loss: 0.4014\n",
      "Epoch 6/30\n",
      "4/4 - 0s - loss: 0.9166 - val_loss: 0.4153\n",
      "Epoch 7/30\n"
     ]
    }
   ],
   "source": [
    "weights = {0:1,1:50}\n",
    "\n",
    "# design network\n",
    "model = Sequential()\n",
    "model.add(LSTM(20, input_shape=(X_trainsc.shape[1], X_trainsc.shape[2])))\n",
    "model.add(Dense(1, activation='sigmoid'))\n",
    "model.compile(loss='binary_crossentropy', optimizer='adam')\n",
    "print(model.summary())\n",
    "# fit network\n",
    "history = model.fit(X_trainsc, y_train, epochs=30, batch_size=1000, validation_data=(X_testsc, y_test), verbose=2, shuffle=False, class_weight=weights)\n",
    "# plot history\n",
    "plt.plot(history.history['loss'], label='train')\n",
    "plt.plot(history.history['val_loss'], label='test')\n",
    "plt.legend()\n",
    "plt.show()"
   ]
  },
  {
   "cell_type": "code",
   "execution_count": null,
   "metadata": {},
   "outputs": [],
   "source": [
    "y_pred = model.predict_classes(X_testsc)\n",
    "print(np.unique(y_pred))"
   ]
  },
  {
   "cell_type": "code",
   "execution_count": null,
   "metadata": {},
   "outputs": [],
   "source": [
    "confusion_matrix(y_test, y_pred)"
   ]
  },
  {
   "cell_type": "code",
   "execution_count": null,
   "metadata": {},
   "outputs": [],
   "source": []
  }
 ],
 "metadata": {
  "kernelspec": {
   "display_name": "Python 3",
   "language": "python",
   "name": "python3"
  },
  "language_info": {
   "codemirror_mode": {
    "name": "ipython",
    "version": 3
   },
   "file_extension": ".py",
   "mimetype": "text/x-python",
   "name": "python",
   "nbconvert_exporter": "python",
   "pygments_lexer": "ipython3",
   "version": "3.8.5"
  }
 },
 "nbformat": 4,
 "nbformat_minor": 4
}
